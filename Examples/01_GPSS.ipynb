{
 "cells": [
  {
   "cell_type": "markdown",
   "metadata": {},
   "source": [
    "# Generalized prolate spheroidal sequences\n",
    "\n",
    "The goal here is to produce the Bronez spectral estimator for unequal time spacing, see Table 1 of [Bronez, 1988](https://ieeexplore.ieee.org/abstract/document/9031). To compute the tapers, one can use equations (21)-(23) in [Chave, 2019](https://academic.oup.com/gji/article-abstract/218/3/2165/5519233) and looking at Fig. 19, we find frequency-dependent tapers that can take complex values. \n",
    "\n",
    "First, some utility code."
   ]
  },
  {
   "cell_type": "code",
   "execution_count": 1,
   "metadata": {
    "ExecuteTime": {
     "end_time": "2021-02-12T15:48:17.373000-06:00",
     "start_time": "2021-02-12T21:48:17.283Z"
    }
   },
   "outputs": [
    {
     "ename": "LoadError",
     "evalue": "\u001b[91mInterruptException:\u001b[39m",
     "output_type": "error",
     "traceback": [
      "\u001b[91mInterruptException:\u001b[39m",
      "",
      "Stacktrace:",
      " [1] _include_from_serialized(::String, ::Array{Any,1}) at ./loading.jl:681",
      " [2] _require_search_from_serialized(::Base.PkgId, ::String) at ./loading.jl:782",
      " [3] _tryrequire_from_serialized(::Base.PkgId, ::UInt64, ::String) at ./loading.jl:712",
      " [4] _require_search_from_serialized(::Base.PkgId, ::String) at ./loading.jl:771",
      " [5] _require(::Base.PkgId) at ./loading.jl:1007",
      " [6] require(::Base.PkgId) at ./loading.jl:928",
      " [7] require(::Module, ::Symbol) at ./loading.jl:923",
      " [8] include_string(::Function, ::Module, ::String, ::String) at ./loading.jl:1091"
     ]
    }
   ],
   "source": [
    "using Plots, Slepians, FINUFFT, Statistics"
   ]
  },
  {
   "cell_type": "markdown",
   "metadata": {},
   "source": [
    "## Recreate Fig 20 from Chave, 2019\n",
    "\n",
    "This is an interesting nonuniform temporal grid for illustration purposes - the $\\Delta t$ is in sorted order."
   ]
  },
  {
   "cell_type": "code",
   "execution_count": 2,
   "metadata": {
    "ExecuteTime": {
     "end_time": "2021-02-12T15:48:18.551000-06:00",
     "start_time": "2021-02-12T21:48:18.419Z"
    }
   },
   "outputs": [
    {
     "ename": "LoadError",
     "evalue": "\u001b[91mUndefVarError: histogram not defined\u001b[39m",
     "output_type": "error",
     "traceback": [
      "\u001b[91mUndefVarError: histogram not defined\u001b[39m",
      "",
      "Stacktrace:",
      " [1] top-level scope at In[2]:6",
      " [2] include_string(::Function, ::Module, ::String, ::String) at ./loading.jl:1091"
     ]
    }
   ],
   "source": [
    "N = 1000\n",
    "t = collect(1.0:N).^(1.05)\n",
    "w = 0.008\n",
    "K = 5\n",
    "\n",
    "histogram(diff(t),legend=false,xlabel=\"dt\",ylabel=\"Frequency\")"
   ]
  },
  {
   "cell_type": "code",
   "execution_count": 3,
   "metadata": {
    "ExecuteTime": {
     "end_time": "2021-02-12T15:48:19.380000-06:00",
     "start_time": "2021-02-12T21:48:18.957Z"
    }
   },
   "outputs": [
    {
     "ename": "LoadError",
     "evalue": "\u001b[91mUndefVarError: gpss not defined\u001b[39m",
     "output_type": "error",
     "traceback": [
      "\u001b[91mUndefVarError: gpss not defined\u001b[39m",
      "",
      "Stacktrace:",
      " [1] top-level scope at In[3]:1",
      " [2] include_string(::Function, ::Module, ::String, ::String) at ./loading.jl:1091"
     ]
    }
   ],
   "source": [
    "lamc, slepsc, cho = gpss(w, K, t, 0.0)\n",
    "slepsc = cho.L*slepsc\n",
    "size(slepsc)\n",
    "\n",
    "p1 = plot(t,real.(slepsc), ylabel= \"Real\", label=collect(1:5)',legend=:topright)\n",
    "p2 = plot(t,imag.(slepsc), ylabel= \"Imaginary\", label=collect(1:5)',legend=:topright,linestyle=:dash)\n",
    "p = plot(p1,p2,layout = (2,1))"
   ]
  },
  {
   "cell_type": "code",
   "execution_count": 4,
   "metadata": {
    "ExecuteTime": {
     "end_time": "2021-02-12T15:48:21.603000-06:00",
     "start_time": "2021-02-12T21:48:19.159Z"
    }
   },
   "outputs": [
    {
     "ename": "LoadError",
     "evalue": "\u001b[91mUndefVarError: slepsc not defined\u001b[39m",
     "output_type": "error",
     "traceback": [
      "\u001b[91mUndefVarError: slepsc not defined\u001b[39m",
      "",
      "Stacktrace:",
      " [1] top-level scope at In[4]:2",
      " [2] include_string(::Function, ::Module, ::String, ::String) at ./loading.jl:1091"
     ]
    }
   ],
   "source": [
    "# Checking orthogonality\n",
    "slepsc'*slepsc"
   ]
  },
  {
   "cell_type": "code",
   "execution_count": 5,
   "metadata": {},
   "outputs": [
    {
     "ename": "LoadError",
     "evalue": "\u001b[91mUndefVarError: slepsc not defined\u001b[39m",
     "output_type": "error",
     "traceback": [
      "\u001b[91mUndefVarError: slepsc not defined\u001b[39m",
      "",
      "Stacktrace:",
      " [1] (::var\"#1#2\")(::Int64) at ./In[5]:3",
      " [2] _mapreduce(::var\"#1#2\", ::typeof(hcat), ::IndexLinear, ::UnitRange{Int64}) at ./reduce.jl:408",
      " [3] _mapreduce_dim(::Function, ::Function, ::NamedTuple{(),Tuple{}}, ::UnitRange{Int64}, ::Colon) at ./reducedim.jl:318",
      " [4] #mapreduce#620 at ./reducedim.jl:310 [inlined]",
      " [5] mapreduce(::Function, ::Function, ::UnitRange{Int64}) at ./reducedim.jl:310",
      " [6] top-level scope at In[5]:3",
      " [7] include_string(::Function, ::Module, ::String, ::String) at ./loading.jl:1091"
     ]
    }
   ],
   "source": [
    "freqs = LinRange(-0.5, 0.5, N+1)[1:N]\n",
    "\n",
    "ftsleps = mapreduce(k->abs2.(nufft1d3(2*pi*t, ComplexF64.(slepsc[:,k]), -1, 1e-15, collect(freqs))),hcat, 1:K)\n",
    "\n",
    "p3 = plot(freqs[501:1000], ftsleps[501:1000,:], yscale=:log10, xscale = :log10,\n",
    "    #title = \"Unequally-spaced Slepians at frequency 0.0\",\n",
    "    legend=:false)\n",
    "plot!(p3,w*[1,1],[1e-20,1e2])\n",
    "plot!(p3,[1e-10, 0.5],1e-15*ones(2), label = \"tolerance for FINUFFT algorithm\")\n",
    "plot(p,p3,layout=(1,2),size=(900,500))\n"
   ]
  },
  {
   "cell_type": "code",
   "execution_count": 6,
   "metadata": {
    "ExecuteTime": {
     "end_time": "2021-02-12T15:48:21.867000-06:00",
     "start_time": "2021-02-12T21:48:19.486Z"
    }
   },
   "outputs": [
    {
     "ename": "LoadError",
     "evalue": "\u001b[91mUndefVarError: plot not defined\u001b[39m",
     "output_type": "error",
     "traceback": [
      "\u001b[91mUndefVarError: plot not defined\u001b[39m",
      "",
      "Stacktrace:",
      " [1] top-level scope at In[6]:1",
      " [2] include_string(::Function, ::Module, ::String, ::String) at ./loading.jl:1091"
     ]
    }
   ],
   "source": [
    "p1 = plot(t,real.(slepsc), label=collect(1:5)',legend=:topright)\n",
    "plot!(p1,t,imag.(slepsc), label=collect(1:5)',legend=:topright,linestyle=:dash)\n",
    "p = plot(p1,p3,layout=(1,2),size=(900,350))"
   ]
  },
  {
   "cell_type": "markdown",
   "metadata": {},
   "source": [
    "# Now we go in and produce an NFFT based estimate of the power"
   ]
  },
  {
   "cell_type": "markdown",
   "metadata": {},
   "source": [
    "As promised, we get excellent concentration properties."
   ]
  },
  {
   "cell_type": "markdown",
   "metadata": {},
   "source": [
    "Finally, to enhance the look of the bandwidth choice, plot the frequency scale on a symmetric log-log plot (two axes split, one reversed, and omitting zero)."
   ]
  },
  {
   "cell_type": "code",
   "execution_count": 7,
   "metadata": {
    "ExecuteTime": {
     "end_time": "2021-02-12T15:48:22.183000-06:00",
     "start_time": "2021-02-12T21:48:20.982Z"
    }
   },
   "outputs": [
    {
     "ename": "LoadError",
     "evalue": "\u001b[91mUndefVarError: ftsleps not defined\u001b[39m",
     "output_type": "error",
     "traceback": [
      "\u001b[91mUndefVarError: ftsleps not defined\u001b[39m",
      "",
      "Stacktrace:",
      " [1] top-level scope at In[7]:4",
      " [2] include_string(::Function, ::Module, ::String, ::String) at ./loading.jl:1091"
     ]
    }
   ],
   "source": [
    "poshalf = Int64(round(N/2+2)):N\n",
    "neghalf = 1:Int64(round(N/2))\n",
    "\n",
    "p1a = plot(-freqs[neghalf], ftsleps[neghalf,:],title=\"negative freqs\",\n",
    "    yscale=:log10, xscale = :log10, xaxis=:flip,legend=false)\n",
    "plot!(p1a, w*[1,1], [1e-22,1e2], c = :black)\n",
    "p2 = plot(freqs[poshalf],ftsleps[poshalf,:],yaxis=:false,title=\"positive freqs\",\n",
    "    yscale=:log10,xscale = :log10,legend=false) #,yaxis.guide_position=:right)\n",
    "plot!(p2, w*[1,1], [1e-22,1e2], c = :black)\n",
    "qp = plot(p1a,p2,layout=(1,2))\n",
    "\n",
    "pqq = plot(p1,qp,layout=(1,2),size=(900,375))\n"
   ]
  },
  {
   "cell_type": "markdown",
   "metadata": {},
   "source": [
    "Try another frequency, this time one that will give a complex taper."
   ]
  },
  {
   "cell_type": "code",
   "execution_count": 8,
   "metadata": {
    "ExecuteTime": {
     "end_time": "2021-02-12T15:48:22.643000-06:00",
     "start_time": "2021-02-12T21:48:21.482Z"
    }
   },
   "outputs": [
    {
     "ename": "LoadError",
     "evalue": "\u001b[91mUndefVarError: gpss not defined\u001b[39m",
     "output_type": "error",
     "traceback": [
      "\u001b[91mUndefVarError: gpss not defined\u001b[39m",
      "",
      "Stacktrace:",
      " [1] top-level scope at In[8]:1",
      " [2] include_string(::Function, ::Module, ::String, ::String) at ./loading.jl:1091"
     ]
    }
   ],
   "source": [
    "lamc, slepsc, cho = gpss(w, K, t, 0.2)\n",
    "slepsc = cho.L*slepsc\n",
    "size(slepsc)\n",
    "\n",
    "p1 = plot(t,real.(slepsc), ylabel= \"Real\", label=collect(1:5)',legend=false)\n",
    "p2 = plot(t,imag.(slepsc), ylabel= \"Imaginary\", label=collect(1:5)',legend=false)\n",
    "pq = plot(p1,p2,layout = (2,1))\n",
    "\n",
    "ftsleps = mapreduce(k->abs2.(nufft1d3(2*pi*t, ComplexF64.(slepsc[:,k]), -1, 1e-15, collect(freqs))),hcat, 1:K)\n",
    "\n",
    "p3 = plot(-freqs[neghalf], ftsleps[neghalf,:],\n",
    "    yscale=:log10,xscale = :log10, xaxis=:flip,legend=false,\n",
    "    title=\"negative freqs\")\n",
    "plot!(p3, w*[1,1], [1e-15,1e2], c = :black)\n",
    "p4 = plot(freqs[poshalf], ftsleps[poshalf,:],\n",
    "    yscale=:log10,xscale = :log10,\n",
    "    title=\"positive freqs\") #,yaxis.guide_position=:right)\n",
    "plot!(p4, w*[1,1], [1e-15,1e2], c = :black)\n",
    "pp = plot(p3,p4,layout=(1,2))\n",
    "\n",
    "plot(pq,pp,layout=(1,2),size=(800,400))"
   ]
  },
  {
   "cell_type": "code",
   "execution_count": 9,
   "metadata": {
    "ExecuteTime": {
     "end_time": "2021-02-12T15:48:22.729000-06:00",
     "start_time": "2021-02-12T21:48:21.724Z"
    }
   },
   "outputs": [
    {
     "ename": "LoadError",
     "evalue": "\u001b[91mUndefVarError: plot not defined\u001b[39m",
     "output_type": "error",
     "traceback": [
      "\u001b[91mUndefVarError: plot not defined\u001b[39m",
      "",
      "Stacktrace:",
      " [1] top-level scope at In[9]:1",
      " [2] include_string(::Function, ::Module, ::String, ::String) at ./loading.jl:1091"
     ]
    }
   ],
   "source": [
    "p1 = plot(t,real.(slepsc), label=collect(1:5)',legend=false)\n",
    "plot!(p1,t,imag.(slepsc), label=collect(1:5)',legend=false,linestyle=:dash)\n",
    "\n",
    "p3 = plot(-freqs[neghalf], ftsleps[neghalf,:],\n",
    "    yscale=:log10,xscale = :log10, xaxis=:flip,legend=false)\n",
    "plot!(p3, w*[1,1], [1e-15,1e2], c = :black)\n",
    "p4 = plot(freqs[poshalf],ftsleps[poshalf,:], legend=false,\n",
    "    yscale=:log10,xscale = :log10,yaxis=false) #,yaxis.guide_position=:right)\n",
    "plot!(p4, w*[1,1], [1e-15,1e2], c = :black)\n",
    "pp = plot(p3,p4,layout=(1,2))\n",
    "\n",
    "q = plot(p1,pp,layout=(1,2),size=(900,375))"
   ]
  },
  {
   "cell_type": "code",
   "execution_count": 10,
   "metadata": {
    "ExecuteTime": {
     "end_time": "2021-02-12T15:48:22.896000-06:00",
     "start_time": "2021-02-12T21:48:22.173Z"
    }
   },
   "outputs": [
    {
     "ename": "LoadError",
     "evalue": "\u001b[91mUndefVarError: plot not defined\u001b[39m",
     "output_type": "error",
     "traceback": [
      "\u001b[91mUndefVarError: plot not defined\u001b[39m",
      "",
      "Stacktrace:",
      " [1] top-level scope at In[10]:1",
      " [2] include_string(::Function, ::Module, ::String, ::String) at ./loading.jl:1091"
     ]
    }
   ],
   "source": [
    "plot(pqq,q,layout=(2,1))"
   ]
  },
  {
   "cell_type": "code",
   "execution_count": null,
   "metadata": {},
   "outputs": [],
   "source": []
  },
  {
   "cell_type": "code",
   "execution_count": null,
   "metadata": {},
   "outputs": [],
   "source": []
  }
 ],
 "metadata": {
  "@webio": {
   "lastCommId": null,
   "lastKernelId": null
  },
  "kernelspec": {
   "display_name": "Julia 1.5.4",
   "language": "julia",
   "name": "julia-1.5"
  },
  "language_info": {
   "file_extension": ".jl",
   "mimetype": "application/julia",
   "name": "julia",
   "version": "1.5.4"
  },
  "toc": {
   "base_numbering": 1,
   "nav_menu": {},
   "number_sections": true,
   "sideBar": true,
   "skip_h1_title": false,
   "title_cell": "Table of Contents",
   "title_sidebar": "Contents",
   "toc_cell": false,
   "toc_position": {},
   "toc_section_display": true,
   "toc_window_display": false
  }
 },
 "nbformat": 4,
 "nbformat_minor": 4
}
