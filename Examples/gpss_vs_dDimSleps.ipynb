{
 "cells": [
  {
   "cell_type": "code",
   "execution_count": 1,
   "id": "cb49efc3",
   "metadata": {},
   "outputs": [
    {
     "name": "stderr",
     "output_type": "stream",
     "text": [
      "┌ Info: Precompiling Slepians [97caf2bd-9cc0-4738-8821-c8999f46f3c9]\n",
      "└ @ Base loading.jl:1278\n"
     ]
    }
   ],
   "source": [
    "using Slepians"
   ]
  },
  {
   "cell_type": "code",
   "execution_count": 2,
   "id": "849e8801",
   "metadata": {},
   "outputs": [
    {
     "ename": "LoadError",
     "evalue": "\u001b[91mUndefVarError: mean not defined\u001b[39m",
     "output_type": "error",
     "traceback": [
      "\u001b[91mUndefVarError: mean not defined\u001b[39m",
      "",
      "Stacktrace:",
      " [1] gpss(::Float64, ::Int64, ::Array{Float64,1}, ::Float64; beta::Float64) at /Users/charlottehaley/.julia/packages/Slepians/k9fqG/src/gpss.jl:65",
      " [2] gpss(::Float64, ::Int64, ::Array{Float64,1}, ::Float64) at /Users/charlottehaley/.julia/packages/Slepians/k9fqG/src/gpss.jl:44",
      " [3] top-level scope at ./timing.jl:174 [inlined]",
      " [4] top-level scope at ./In[2]:0",
      " [5] include_string(::Function, ::Module, ::String, ::String) at ./loading.jl:1091"
     ]
    }
   ],
   "source": [
    "N = 128\n",
    "W = 5.0/N\n",
    "K = 8\n",
    "\n",
    "tt = sort(randn(N))\n",
    "\n",
    "@time gpss(W, K, tt, 0.1)"
   ]
  },
  {
   "cell_type": "code",
   "execution_count": 3,
   "id": "abc074a3",
   "metadata": {},
   "outputs": [
    {
     "name": "stdout",
     "output_type": "stream",
     "text": [
      "search: \u001b[0m\u001b[1mg\u001b[22m\u001b[0m\u001b[1mp\u001b[22m\u001b[0m\u001b[1ms\u001b[22m\u001b[0m\u001b[1ms\u001b[22m \u001b[0m\u001b[1mg\u001b[22m\u001b[0m\u001b[1mp\u001b[22m\u001b[0m\u001b[1ms\u001b[22m\u001b[0m\u001b[1ms\u001b[22m_orth\n",
      "\n"
     ]
    },
    {
     "data": {
      "text/latex": [
       "\\begin{verbatim}\n",
       "gpss(w, k, t, f; <keyword arguments>)\n",
       "\\end{verbatim}\n",
       "Generalized prolate spheroidal sequences on an unequal grid\n",
       "\n",
       "...\n",
       "\n",
       "\\section{Arguments}\n",
       "\\subsection{Positional Arguments}\n",
       "\\begin{itemize}\n",
       "\\item \\texttt{w::Float64}: the bandwidth\n",
       "\n",
       "\n",
       "\\item \\texttt{k::Int64}: number of Slepian tapers, must be <=2\\emph{bw}length(x) \n",
       "\n",
       "\n",
       "\\item \\texttt{t::Vector\\{Int64\\}}: vector containing the time indices\n",
       "\n",
       "\n",
       "\\item \\texttt{f::Float64}: frequency at which the tapers are to be computed\n",
       "\n",
       "\\end{itemize}\n",
       "\\subsection{Keyword Arguments}\n",
       "\\begin{itemize}\n",
       "\\item \\texttt{beta::Float64 = 0.5}: analysis half-bandwidth (similar to Nyquist rate)\n",
       "\n",
       "\\end{itemize}\n",
       "...\n",
       "\n",
       "...\n",
       "\n",
       "\\section{Outputs}\n",
       "\\begin{itemize}\n",
       "\\item \\texttt{lambda::Vector\\{Float64\\}} the concentrations of the generalized prolate spheroidal\n",
       "\n",
       "\\end{itemize}\n",
       "sequences\n",
       "\n",
       "\\begin{itemize}\n",
       "\\item \\texttt{u::Matrix\\{Float64\\}} the matrix containing the sequences themselves\n",
       "\n",
       "\n",
       "\\item \\texttt{R} the Cholesky factor for the generalized eigenvalue problem\n",
       "\n",
       "\\end{itemize}\n",
       "...\n",
       "\n",
       "See also: \\href{@ref}{\\texttt{gpss\\_orth}}\n",
       "\n"
      ],
      "text/markdown": [
       "```\n",
       "gpss(w, k, t, f; <keyword arguments>)\n",
       "```\n",
       "\n",
       "Generalized prolate spheroidal sequences on an unequal grid\n",
       "\n",
       "...\n",
       "\n",
       "# Arguments\n",
       "\n",
       "## Positional Arguments\n",
       "\n",
       "  * `w::Float64`: the bandwidth\n",
       "  * `k::Int64`: number of Slepian tapers, must be <=2*bw*length(x)\n",
       "  * `t::Vector{Int64}`: vector containing the time indices\n",
       "  * `f::Float64`: frequency at which the tapers are to be computed\n",
       "\n",
       "## Keyword Arguments\n",
       "\n",
       "  * `beta::Float64 = 0.5`: analysis half-bandwidth (similar to Nyquist rate)\n",
       "\n",
       "...\n",
       "\n",
       "...\n",
       "\n",
       "# Outputs\n",
       "\n",
       "  * `lambda::Vector{Float64}` the concentrations of the generalized prolate spheroidal\n",
       "\n",
       "sequences\n",
       "\n",
       "  * `u::Matrix{Float64}` the matrix containing the sequences themselves\n",
       "  * `R` the Cholesky factor for the generalized eigenvalue problem\n",
       "\n",
       "...\n",
       "\n",
       "See also: [`gpss_orth`](@ref)\n"
      ],
      "text/plain": [
       "\u001b[36m  gpss(w, k, t, f; <keyword arguments>)\u001b[39m\n",
       "\n",
       "  Generalized prolate spheroidal sequences on an unequal grid\n",
       "\n",
       "  ...\n",
       "\n",
       "\u001b[1m  Arguments\u001b[22m\n",
       "\u001b[1m  ≡≡≡≡≡≡≡≡≡≡≡\u001b[22m\n",
       "\n",
       "\u001b[1m  Positional Arguments\u001b[22m\n",
       "\u001b[1m  ======================\u001b[22m\n",
       "\n",
       "    •    \u001b[36mw::Float64\u001b[39m: the bandwidth\n",
       "\n",
       "    •    \u001b[36mk::Int64\u001b[39m: number of Slepian tapers, must be <=2\u001b[4mbw\u001b[24mlength(x) \n",
       "\n",
       "    •    \u001b[36mt::Vector{Int64}\u001b[39m: vector containing the time indices\n",
       "\n",
       "    •    \u001b[36mf::Float64\u001b[39m: frequency at which the tapers are to be computed\n",
       "\n",
       "\u001b[1m  Keyword Arguments\u001b[22m\n",
       "\u001b[1m  ===================\u001b[22m\n",
       "\n",
       "    •    \u001b[36mbeta::Float64 = 0.5\u001b[39m: analysis half-bandwidth (similar to Nyquist\n",
       "        rate)\n",
       "\n",
       "  ...\n",
       "\n",
       "  ...\n",
       "\n",
       "\u001b[1m  Outputs\u001b[22m\n",
       "\u001b[1m  ≡≡≡≡≡≡≡≡≡\u001b[22m\n",
       "\n",
       "    •    \u001b[36mlambda::Vector{Float64}\u001b[39m the concentrations of the generalized\n",
       "        prolate spheroidal\n",
       "\n",
       "  sequences\n",
       "\n",
       "    •    \u001b[36mu::Matrix{Float64}\u001b[39m the matrix containing the sequences themselves\n",
       "\n",
       "    •    \u001b[36mR\u001b[39m the Cholesky factor for the generalized eigenvalue problem\n",
       "\n",
       "  ...\n",
       "\n",
       "  See also: \u001b[36mgpss_orth\u001b[39m"
      ]
     },
     "execution_count": 3,
     "metadata": {},
     "output_type": "execute_result"
    }
   ],
   "source": [
    "?gpss"
   ]
  },
  {
   "cell_type": "code",
   "execution_count": null,
   "id": "f92a774b",
   "metadata": {},
   "outputs": [],
   "source": []
  }
 ],
 "metadata": {
  "kernelspec": {
   "display_name": "Julia 1.5.4",
   "language": "julia",
   "name": "julia-1.5"
  },
  "language_info": {
   "file_extension": ".jl",
   "mimetype": "application/julia",
   "name": "julia",
   "version": "1.5.4"
  }
 },
 "nbformat": 4,
 "nbformat_minor": 5
}
