{
 "cells": [
  {
   "cell_type": "markdown",
   "metadata": {},
   "source": [
    "# Generalized prolate spheroidal sequences\n",
    "\n",
    "The goal here is to produce the Bronez spectral estimator for unequal time spacing, see Table 1 of [Bronez, 1988](https://ieeexplore.ieee.org/abstract/document/9031). To compute the tapers, one can use equations (21)-(23) in [Chave, 2019](https://academic.oup.com/gji/article-abstract/218/3/2165/5519233) and looking at Fig. 19, we find frequency-dependent tapers that can take complex values. \n",
    "\n",
    "First, some utility code."
   ]
  },
  {
   "cell_type": "code",
   "execution_count": 11,
   "metadata": {
    "ExecuteTime": {
     "end_time": "2021-02-12T15:48:17.373000-06:00",
     "start_time": "2021-02-12T21:48:17.283Z"
    }
   },
   "outputs": [],
   "source": [
    "using Plots, Slepians, FINUFFT, Statistics"
   ]
  },
  {
   "cell_type": "markdown",
   "metadata": {},
   "source": [
    "## Recreate Fig 20 from Chave, 2019\n",
    "\n",
    "This is an interesting nonuniform temporal grid for illustration purposes - the $\\Delta t$ is in sorted order."
   ]
  },
  {
   "cell_type": "code",
   "execution_count": 12,
   "metadata": {
    "ExecuteTime": {
     "end_time": "2021-02-12T15:48:18.551000-06:00",
     "start_time": "2021-02-12T21:48:18.419Z"
    }
   },
   "outputs": [
    {
     "data": {
      "image/svg+xml": [
       "<?xml version=\"1.0\" encoding=\"utf-8\"?>\n",
       "<svg xmlns=\"http://www.w3.org/2000/svg\" xmlns:xlink=\"http://www.w3.org/1999/xlink\" width=\"600\" height=\"400\" viewBox=\"0 0 2400 1600\">\n",
       "<defs>\n",
       "  <clipPath id=\"clip150\">\n",
       "    <rect x=\"0\" y=\"0\" width=\"2400\" height=\"1600\"/>\n",
       "  </clipPath>\n",
       "</defs>\n",
       "<path clip-path=\"url(#clip150)\" d=\"\n",
       "M0 1600 L2400 1600 L2400 0 L0 0  Z\n",
       "  \" fill=\"#ffffff\" fill-rule=\"evenodd\" fill-opacity=\"1\"/>\n",
       "<defs>\n",
       "  <clipPath id=\"clip151\">\n",
       "    <rect x=\"480\" y=\"0\" width=\"1681\" height=\"1600\"/>\n",
       "  </clipPath>\n",
       "</defs>\n",
       "<path clip-path=\"url(#clip150)\" d=\"\n",
       "M234.125 1423.18 L2352.76 1423.18 L2352.76 47.2441 L234.125 47.2441  Z\n",
       "  \" fill=\"#ffffff\" fill-rule=\"evenodd\" fill-opacity=\"1\"/>\n",
       "<defs>\n",
       "  <clipPath id=\"clip152\">\n",
       "    <rect x=\"234\" y=\"47\" width=\"2120\" height=\"1377\"/>\n",
       "  </clipPath>\n",
       "</defs>\n",
       "<polyline clip-path=\"url(#clip152)\" style=\"stroke:#000000; stroke-linecap:butt; stroke-linejoin:round; stroke-width:2; stroke-opacity:0.1; fill:none\" points=\"\n",
       "  522.07,1423.18 522.07,47.2441 \n",
       "  \"/>\n",
       "<polyline clip-path=\"url(#clip152)\" style=\"stroke:#000000; stroke-linecap:butt; stroke-linejoin:round; stroke-width:2; stroke-opacity:0.1; fill:none\" points=\"\n",
       "  950.609,1423.18 950.609,47.2441 \n",
       "  \"/>\n",
       "<polyline clip-path=\"url(#clip152)\" style=\"stroke:#000000; stroke-linecap:butt; stroke-linejoin:round; stroke-width:2; stroke-opacity:0.1; fill:none\" points=\"\n",
       "  1379.15,1423.18 1379.15,47.2441 \n",
       "  \"/>\n",
       "<polyline clip-path=\"url(#clip152)\" style=\"stroke:#000000; stroke-linecap:butt; stroke-linejoin:round; stroke-width:2; stroke-opacity:0.1; fill:none\" points=\"\n",
       "  1807.69,1423.18 1807.69,47.2441 \n",
       "  \"/>\n",
       "<polyline clip-path=\"url(#clip152)\" style=\"stroke:#000000; stroke-linecap:butt; stroke-linejoin:round; stroke-width:2; stroke-opacity:0.1; fill:none\" points=\"\n",
       "  2236.23,1423.18 2236.23,47.2441 \n",
       "  \"/>\n",
       "<polyline clip-path=\"url(#clip150)\" style=\"stroke:#000000; stroke-linecap:butt; stroke-linejoin:round; stroke-width:4; stroke-opacity:1; fill:none\" points=\"\n",
       "  234.125,1423.18 2352.76,1423.18 \n",
       "  \"/>\n",
       "<polyline clip-path=\"url(#clip150)\" style=\"stroke:#000000; stroke-linecap:butt; stroke-linejoin:round; stroke-width:4; stroke-opacity:1; fill:none\" points=\"\n",
       "  522.07,1423.18 522.07,1404.28 \n",
       "  \"/>\n",
       "<polyline clip-path=\"url(#clip150)\" style=\"stroke:#000000; stroke-linecap:butt; stroke-linejoin:round; stroke-width:4; stroke-opacity:1; fill:none\" points=\"\n",
       "  950.609,1423.18 950.609,1404.28 \n",
       "  \"/>\n",
       "<polyline clip-path=\"url(#clip150)\" style=\"stroke:#000000; stroke-linecap:butt; stroke-linejoin:round; stroke-width:4; stroke-opacity:1; fill:none\" points=\"\n",
       "  1379.15,1423.18 1379.15,1404.28 \n",
       "  \"/>\n",
       "<polyline clip-path=\"url(#clip150)\" style=\"stroke:#000000; stroke-linecap:butt; stroke-linejoin:round; stroke-width:4; stroke-opacity:1; fill:none\" points=\"\n",
       "  1807.69,1423.18 1807.69,1404.28 \n",
       "  \"/>\n",
       "<polyline clip-path=\"url(#clip150)\" style=\"stroke:#000000; stroke-linecap:butt; stroke-linejoin:round; stroke-width:4; stroke-opacity:1; fill:none\" points=\"\n",
       "  2236.23,1423.18 2236.23,1404.28 \n",
       "  \"/>\n",
       "<path clip-path=\"url(#clip150)\" d=\"M489.836 1479.92 L497.475 1479.92 L497.475 1453.55 L489.165 1455.22 L489.165 1450.96 L497.429 1449.29 L502.105 1449.29 L502.105 1479.92 L509.743 1479.92 L509.743 1483.85 L489.836 1483.85 L489.836 1479.92 Z\" fill=\"#000000\" fill-rule=\"evenodd\" fill-opacity=\"1\" /><path clip-path=\"url(#clip150)\" d=\"M519.188 1477.97 L524.072 1477.97 L524.072 1483.85 L519.188 1483.85 L519.188 1477.97 Z\" fill=\"#000000\" fill-rule=\"evenodd\" fill-opacity=\"1\" /><path clip-path=\"url(#clip150)\" d=\"M535.067 1479.92 L542.706 1479.92 L542.706 1453.55 L534.396 1455.22 L534.396 1450.96 L542.66 1449.29 L547.336 1449.29 L547.336 1479.92 L554.975 1479.92 L554.975 1483.85 L535.067 1483.85 L535.067 1479.92 Z\" fill=\"#000000\" fill-rule=\"evenodd\" fill-opacity=\"1\" /><path clip-path=\"url(#clip150)\" d=\"M918.561 1479.92 L926.2 1479.92 L926.2 1453.55 L917.889 1455.22 L917.889 1450.96 L926.153 1449.29 L930.829 1449.29 L930.829 1479.92 L938.468 1479.92 L938.468 1483.85 L918.561 1483.85 L918.561 1479.92 Z\" fill=\"#000000\" fill-rule=\"evenodd\" fill-opacity=\"1\" /><path clip-path=\"url(#clip150)\" d=\"M947.912 1477.97 L952.797 1477.97 L952.797 1483.85 L947.912 1483.85 L947.912 1477.97 Z\" fill=\"#000000\" fill-rule=\"evenodd\" fill-opacity=\"1\" /><path clip-path=\"url(#clip150)\" d=\"M967.009 1479.92 L983.329 1479.92 L983.329 1483.85 L961.385 1483.85 L961.385 1479.92 Q964.047 1477.16 968.63 1472.53 Q973.236 1467.88 974.417 1466.54 Q976.662 1464.01 977.542 1462.28 Q978.445 1460.52 978.445 1458.83 Q978.445 1456.07 976.5 1454.34 Q974.579 1452.6 971.477 1452.6 Q969.278 1452.6 966.824 1453.37 Q964.394 1454.13 961.616 1455.68 L961.616 1450.96 Q964.44 1449.82 966.894 1449.25 Q969.347 1448.67 971.384 1448.67 Q976.755 1448.67 979.949 1451.35 Q983.144 1454.04 983.144 1458.53 Q983.144 1460.66 982.333 1462.58 Q981.546 1464.48 979.44 1467.07 Q978.861 1467.74 975.759 1470.96 Q972.658 1474.15 967.009 1479.92 Z\" fill=\"#000000\" fill-rule=\"evenodd\" fill-opacity=\"1\" /><path clip-path=\"url(#clip150)\" d=\"M1346.63 1479.92 L1354.26 1479.92 L1354.26 1453.55 L1345.95 1455.22 L1345.95 1450.96 L1354.22 1449.29 L1358.89 1449.29 L1358.89 1479.92 L1366.53 1479.92 L1366.53 1483.85 L1346.63 1483.85 L1346.63 1479.92 Z\" fill=\"#000000\" fill-rule=\"evenodd\" fill-opacity=\"1\" /><path clip-path=\"url(#clip150)\" d=\"M1375.98 1477.97 L1380.86 1477.97 L1380.86 1483.85 L1375.98 1483.85 L1375.98 1477.97 Z\" fill=\"#000000\" fill-rule=\"evenodd\" fill-opacity=\"1\" /><path clip-path=\"url(#clip150)\" d=\"M1405.21 1465.22 Q1408.57 1465.94 1410.44 1468.2 Q1412.34 1470.47 1412.34 1473.81 Q1412.34 1478.92 1408.82 1481.72 Q1405.31 1484.52 1398.82 1484.52 Q1396.65 1484.52 1394.33 1484.08 Q1392.04 1483.67 1389.59 1482.81 L1389.59 1478.3 Q1391.53 1479.43 1393.85 1480.01 Q1396.16 1480.59 1398.69 1480.59 Q1403.08 1480.59 1405.38 1478.85 Q1407.69 1477.12 1407.69 1473.81 Q1407.69 1470.75 1405.54 1469.04 Q1403.41 1467.3 1399.59 1467.3 L1395.56 1467.3 L1395.56 1463.46 L1399.77 1463.46 Q1403.22 1463.46 1405.05 1462.09 Q1406.88 1460.7 1406.88 1458.11 Q1406.88 1455.45 1404.98 1454.04 Q1403.11 1452.6 1399.59 1452.6 Q1397.67 1452.6 1395.47 1453.02 Q1393.27 1453.44 1390.63 1454.31 L1390.63 1450.15 Q1393.29 1449.41 1395.61 1449.04 Q1397.94 1448.67 1400 1448.67 Q1405.33 1448.67 1408.43 1451.1 Q1411.53 1453.5 1411.53 1457.63 Q1411.53 1460.5 1409.89 1462.49 Q1408.25 1464.45 1405.21 1465.22 Z\" fill=\"#000000\" fill-rule=\"evenodd\" fill-opacity=\"1\" /><path clip-path=\"url(#clip150)\" d=\"M1774.6 1479.92 L1782.24 1479.92 L1782.24 1453.55 L1773.93 1455.22 L1773.93 1450.96 L1782.19 1449.29 L1786.87 1449.29 L1786.87 1479.92 L1794.51 1479.92 L1794.51 1483.85 L1774.6 1483.85 L1774.6 1479.92 Z\" fill=\"#000000\" fill-rule=\"evenodd\" fill-opacity=\"1\" /><path clip-path=\"url(#clip150)\" d=\"M1803.95 1477.97 L1808.83 1477.97 L1808.83 1483.85 L1803.95 1483.85 L1803.95 1477.97 Z\" fill=\"#000000\" fill-rule=\"evenodd\" fill-opacity=\"1\" /><path clip-path=\"url(#clip150)\" d=\"M1831.87 1453.37 L1820.06 1471.81 L1831.87 1471.81 L1831.87 1453.37 M1830.64 1449.29 L1836.52 1449.29 L1836.52 1471.81 L1841.45 1471.81 L1841.45 1475.7 L1836.52 1475.7 L1836.52 1483.85 L1831.87 1483.85 L1831.87 1475.7 L1816.26 1475.7 L1816.26 1471.19 L1830.64 1449.29 Z\" fill=\"#000000\" fill-rule=\"evenodd\" fill-opacity=\"1\" /><path clip-path=\"url(#clip150)\" d=\"M2203.88 1479.92 L2211.52 1479.92 L2211.52 1453.55 L2203.21 1455.22 L2203.21 1450.96 L2211.47 1449.29 L2216.15 1449.29 L2216.15 1479.92 L2223.79 1479.92 L2223.79 1483.85 L2203.88 1483.85 L2203.88 1479.92 Z\" fill=\"#000000\" fill-rule=\"evenodd\" fill-opacity=\"1\" /><path clip-path=\"url(#clip150)\" d=\"M2233.23 1477.97 L2238.11 1477.97 L2238.11 1483.85 L2233.23 1483.85 L2233.23 1477.97 Z\" fill=\"#000000\" fill-rule=\"evenodd\" fill-opacity=\"1\" /><path clip-path=\"url(#clip150)\" d=\"M2248.35 1449.29 L2266.7 1449.29 L2266.7 1453.23 L2252.63 1453.23 L2252.63 1461.7 Q2253.65 1461.35 2254.66 1461.19 Q2255.68 1461 2256.7 1461 Q2262.49 1461 2265.87 1464.18 Q2269.25 1467.35 2269.25 1472.76 Q2269.25 1478.34 2265.78 1481.44 Q2262.3 1484.52 2255.98 1484.52 Q2253.81 1484.52 2251.54 1484.15 Q2249.29 1483.78 2246.89 1483.04 L2246.89 1478.34 Q2248.97 1479.48 2251.19 1480.03 Q2253.41 1480.59 2255.89 1480.59 Q2259.9 1480.59 2262.23 1478.48 Q2264.57 1476.38 2264.57 1472.76 Q2264.57 1469.15 2262.23 1467.05 Q2259.9 1464.94 2255.89 1464.94 Q2254.02 1464.94 2252.14 1465.36 Q2250.29 1465.77 2248.35 1466.65 L2248.35 1449.29 Z\" fill=\"#000000\" fill-rule=\"evenodd\" fill-opacity=\"1\" /><path clip-path=\"url(#clip150)\" d=\"M1288.55 1537.81 L1288.55 1518.52 L1294.41 1518.52 L1294.41 1568.04 L1288.55 1568.04 L1288.55 1562.7 Q1286.71 1565.88 1283.88 1567.44 Q1281.08 1568.97 1277.13 1568.97 Q1270.67 1568.97 1266.59 1563.81 Q1262.55 1558.65 1262.55 1550.25 Q1262.55 1541.85 1266.59 1536.69 Q1270.67 1531.54 1277.13 1531.54 Q1281.08 1531.54 1283.88 1533.1 Q1286.71 1534.62 1288.55 1537.81 M1268.6 1550.25 Q1268.6 1556.71 1271.24 1560.4 Q1273.91 1564.07 1278.56 1564.07 Q1283.21 1564.07 1285.88 1560.4 Q1288.55 1556.71 1288.55 1550.25 Q1288.55 1543.79 1285.88 1540.13 Q1283.21 1536.44 1278.56 1536.44 Q1273.91 1536.44 1271.24 1540.13 Q1268.6 1543.79 1268.6 1550.25 Z\" fill=\"#000000\" fill-rule=\"evenodd\" fill-opacity=\"1\" /><path clip-path=\"url(#clip150)\" d=\"M1312.27 1522.27 L1312.27 1532.4 L1324.33 1532.4 L1324.33 1536.95 L1312.27 1536.95 L1312.27 1556.3 Q1312.27 1560.66 1313.44 1561.9 Q1314.65 1563.14 1318.31 1563.14 L1324.33 1563.14 L1324.33 1568.04 L1318.31 1568.04 Q1311.54 1568.04 1308.96 1565.53 Q1306.38 1562.98 1306.38 1556.3 L1306.38 1536.95 L1302.08 1536.95 L1302.08 1532.4 L1306.38 1532.4 L1306.38 1522.27 L1312.27 1522.27 Z\" fill=\"#000000\" fill-rule=\"evenodd\" fill-opacity=\"1\" /><polyline clip-path=\"url(#clip152)\" style=\"stroke:#000000; stroke-linecap:butt; stroke-linejoin:round; stroke-width:2; stroke-opacity:0.1; fill:none\" points=\"\n",
       "  234.125,1384.24 2352.76,1384.24 \n",
       "  \"/>\n",
       "<polyline clip-path=\"url(#clip152)\" style=\"stroke:#000000; stroke-linecap:butt; stroke-linejoin:round; stroke-width:2; stroke-opacity:0.1; fill:none\" points=\"\n",
       "  234.125,1099.58 2352.76,1099.58 \n",
       "  \"/>\n",
       "<polyline clip-path=\"url(#clip152)\" style=\"stroke:#000000; stroke-linecap:butt; stroke-linejoin:round; stroke-width:2; stroke-opacity:0.1; fill:none\" points=\"\n",
       "  234.125,814.917 2352.76,814.917 \n",
       "  \"/>\n",
       "<polyline clip-path=\"url(#clip152)\" style=\"stroke:#000000; stroke-linecap:butt; stroke-linejoin:round; stroke-width:2; stroke-opacity:0.1; fill:none\" points=\"\n",
       "  234.125,530.256 2352.76,530.256 \n",
       "  \"/>\n",
       "<polyline clip-path=\"url(#clip152)\" style=\"stroke:#000000; stroke-linecap:butt; stroke-linejoin:round; stroke-width:2; stroke-opacity:0.1; fill:none\" points=\"\n",
       "  234.125,245.596 2352.76,245.596 \n",
       "  \"/>\n",
       "<polyline clip-path=\"url(#clip150)\" style=\"stroke:#000000; stroke-linecap:butt; stroke-linejoin:round; stroke-width:4; stroke-opacity:1; fill:none\" points=\"\n",
       "  234.125,1423.18 234.125,47.2441 \n",
       "  \"/>\n",
       "<polyline clip-path=\"url(#clip150)\" style=\"stroke:#000000; stroke-linecap:butt; stroke-linejoin:round; stroke-width:4; stroke-opacity:1; fill:none\" points=\"\n",
       "  234.125,1384.24 253.023,1384.24 \n",
       "  \"/>\n",
       "<polyline clip-path=\"url(#clip150)\" style=\"stroke:#000000; stroke-linecap:butt; stroke-linejoin:round; stroke-width:4; stroke-opacity:1; fill:none\" points=\"\n",
       "  234.125,1099.58 253.023,1099.58 \n",
       "  \"/>\n",
       "<polyline clip-path=\"url(#clip150)\" style=\"stroke:#000000; stroke-linecap:butt; stroke-linejoin:round; stroke-width:4; stroke-opacity:1; fill:none\" points=\"\n",
       "  234.125,814.917 253.023,814.917 \n",
       "  \"/>\n",
       "<polyline clip-path=\"url(#clip150)\" style=\"stroke:#000000; stroke-linecap:butt; stroke-linejoin:round; stroke-width:4; stroke-opacity:1; fill:none\" points=\"\n",
       "  234.125,530.256 253.023,530.256 \n",
       "  \"/>\n",
       "<polyline clip-path=\"url(#clip150)\" style=\"stroke:#000000; stroke-linecap:butt; stroke-linejoin:round; stroke-width:4; stroke-opacity:1; fill:none\" points=\"\n",
       "  234.125,245.596 253.023,245.596 \n",
       "  \"/>\n",
       "<path clip-path=\"url(#clip150)\" d=\"M186.181 1370.04 Q182.57 1370.04 180.741 1373.6 Q178.936 1377.14 178.936 1384.27 Q178.936 1391.38 180.741 1394.94 Q182.57 1398.49 186.181 1398.49 Q189.815 1398.49 191.621 1394.94 Q193.45 1391.38 193.45 1384.27 Q193.45 1377.14 191.621 1373.6 Q189.815 1370.04 186.181 1370.04 M186.181 1366.33 Q191.991 1366.33 195.047 1370.94 Q198.125 1375.52 198.125 1384.27 Q198.125 1393 195.047 1397.61 Q191.991 1402.19 186.181 1402.19 Q180.371 1402.19 177.292 1397.61 Q174.237 1393 174.237 1384.27 Q174.237 1375.52 177.292 1370.94 Q180.371 1366.33 186.181 1366.33 Z\" fill=\"#000000\" fill-rule=\"evenodd\" fill-opacity=\"1\" /><path clip-path=\"url(#clip150)\" d=\"M146.066 1082.3 L164.422 1082.3 L164.422 1086.23 L150.348 1086.23 L150.348 1094.7 Q151.366 1094.36 152.385 1094.2 Q153.403 1094.01 154.422 1094.01 Q160.209 1094.01 163.589 1097.18 Q166.968 1100.35 166.968 1105.77 Q166.968 1111.35 163.496 1114.45 Q160.024 1117.53 153.704 1117.53 Q151.528 1117.53 149.26 1117.16 Q147.015 1116.79 144.607 1116.05 L144.607 1111.35 Q146.691 1112.48 148.913 1113.04 Q151.135 1113.59 153.612 1113.59 Q157.616 1113.59 159.954 1111.49 Q162.292 1109.38 162.292 1105.77 Q162.292 1102.16 159.954 1100.05 Q157.616 1097.95 153.612 1097.95 Q151.737 1097.95 149.862 1098.36 Q148.01 1098.78 146.066 1099.66 L146.066 1082.3 Z\" fill=\"#000000\" fill-rule=\"evenodd\" fill-opacity=\"1\" /><path clip-path=\"url(#clip150)\" d=\"M186.181 1085.38 Q182.57 1085.38 180.741 1088.94 Q178.936 1092.48 178.936 1099.61 Q178.936 1106.72 180.741 1110.28 Q182.57 1113.83 186.181 1113.83 Q189.815 1113.83 191.621 1110.28 Q193.45 1106.72 193.45 1099.61 Q193.45 1092.48 191.621 1088.94 Q189.815 1085.38 186.181 1085.38 M186.181 1081.67 Q191.991 1081.67 195.047 1086.28 Q198.125 1090.86 198.125 1099.61 Q198.125 1108.34 195.047 1112.95 Q191.991 1117.53 186.181 1117.53 Q180.371 1117.53 177.292 1112.95 Q174.237 1108.34 174.237 1099.61 Q174.237 1090.86 177.292 1086.28 Q180.371 1081.67 186.181 1081.67 Z\" fill=\"#000000\" fill-rule=\"evenodd\" fill-opacity=\"1\" /><path clip-path=\"url(#clip150)\" d=\"M116.668 828.262 L124.306 828.262 L124.306 801.896 L115.996 803.563 L115.996 799.304 L124.26 797.637 L128.936 797.637 L128.936 828.262 L136.575 828.262 L136.575 832.197 L116.668 832.197 L116.668 828.262 Z\" fill=\"#000000\" fill-rule=\"evenodd\" fill-opacity=\"1\" /><path clip-path=\"url(#clip150)\" d=\"M156.019 800.716 Q152.408 800.716 150.579 804.28 Q148.774 807.822 148.774 814.952 Q148.774 822.058 150.579 825.623 Q152.408 829.165 156.019 829.165 Q159.653 829.165 161.459 825.623 Q163.288 822.058 163.288 814.952 Q163.288 807.822 161.459 804.28 Q159.653 800.716 156.019 800.716 M156.019 797.012 Q161.829 797.012 164.885 801.618 Q167.964 806.202 167.964 814.952 Q167.964 823.678 164.885 828.285 Q161.829 832.868 156.019 832.868 Q150.209 832.868 147.13 828.285 Q144.075 823.678 144.075 814.952 Q144.075 806.202 147.13 801.618 Q150.209 797.012 156.019 797.012 Z\" fill=\"#000000\" fill-rule=\"evenodd\" fill-opacity=\"1\" /><path clip-path=\"url(#clip150)\" d=\"M186.181 800.716 Q182.57 800.716 180.741 804.28 Q178.936 807.822 178.936 814.952 Q178.936 822.058 180.741 825.623 Q182.57 829.165 186.181 829.165 Q189.815 829.165 191.621 825.623 Q193.45 822.058 193.45 814.952 Q193.45 807.822 191.621 804.28 Q189.815 800.716 186.181 800.716 M186.181 797.012 Q191.991 797.012 195.047 801.618 Q198.125 806.202 198.125 814.952 Q198.125 823.678 195.047 828.285 Q191.991 832.868 186.181 832.868 Q180.371 832.868 177.292 828.285 Q174.237 823.678 174.237 814.952 Q174.237 806.202 177.292 801.618 Q180.371 797.012 186.181 797.012 Z\" fill=\"#000000\" fill-rule=\"evenodd\" fill-opacity=\"1\" /><path clip-path=\"url(#clip150)\" d=\"M116.668 543.601 L124.306 543.601 L124.306 517.236 L115.996 518.902 L115.996 514.643 L124.26 512.976 L128.936 512.976 L128.936 543.601 L136.575 543.601 L136.575 547.536 L116.668 547.536 L116.668 543.601 Z\" fill=\"#000000\" fill-rule=\"evenodd\" fill-opacity=\"1\" /><path clip-path=\"url(#clip150)\" d=\"M146.066 512.976 L164.422 512.976 L164.422 516.911 L150.348 516.911 L150.348 525.384 Q151.366 525.036 152.385 524.874 Q153.403 524.689 154.422 524.689 Q160.209 524.689 163.589 527.86 Q166.968 531.032 166.968 536.448 Q166.968 542.027 163.496 545.129 Q160.024 548.208 153.704 548.208 Q151.528 548.208 149.26 547.837 Q147.015 547.467 144.607 546.726 L144.607 542.027 Q146.691 543.161 148.913 543.717 Q151.135 544.272 153.612 544.272 Q157.616 544.272 159.954 542.166 Q162.292 540.059 162.292 536.448 Q162.292 532.837 159.954 530.731 Q157.616 528.624 153.612 528.624 Q151.737 528.624 149.862 529.041 Q148.01 529.458 146.066 530.337 L146.066 512.976 Z\" fill=\"#000000\" fill-rule=\"evenodd\" fill-opacity=\"1\" /><path clip-path=\"url(#clip150)\" d=\"M186.181 516.055 Q182.57 516.055 180.741 519.62 Q178.936 523.161 178.936 530.291 Q178.936 537.397 180.741 540.962 Q182.57 544.504 186.181 544.504 Q189.815 544.504 191.621 540.962 Q193.45 537.397 193.45 530.291 Q193.45 523.161 191.621 519.62 Q189.815 516.055 186.181 516.055 M186.181 512.351 Q191.991 512.351 195.047 516.958 Q198.125 521.541 198.125 530.291 Q198.125 539.018 195.047 543.624 Q191.991 548.208 186.181 548.208 Q180.371 548.208 177.292 543.624 Q174.237 539.018 174.237 530.291 Q174.237 521.541 177.292 516.958 Q180.371 512.351 186.181 512.351 Z\" fill=\"#000000\" fill-rule=\"evenodd\" fill-opacity=\"1\" /><path clip-path=\"url(#clip150)\" d=\"M119.885 258.94 L136.204 258.94 L136.204 262.876 L114.26 262.876 L114.26 258.94 Q116.922 256.186 121.505 251.556 Q126.112 246.904 127.292 245.561 Q129.538 243.038 130.417 241.302 Q131.32 239.542 131.32 237.853 Q131.32 235.098 129.376 233.362 Q127.455 231.626 124.353 231.626 Q122.154 231.626 119.7 232.39 Q117.269 233.154 114.492 234.704 L114.492 229.982 Q117.316 228.848 119.769 228.269 Q122.223 227.691 124.26 227.691 Q129.63 227.691 132.825 230.376 Q136.019 233.061 136.019 237.552 Q136.019 239.681 135.209 241.603 Q134.422 243.501 132.316 246.093 Q131.737 246.765 128.635 249.982 Q125.533 253.177 119.885 258.94 Z\" fill=\"#000000\" fill-rule=\"evenodd\" fill-opacity=\"1\" /><path clip-path=\"url(#clip150)\" d=\"M156.019 231.394 Q152.408 231.394 150.579 234.959 Q148.774 238.501 148.774 245.63 Q148.774 252.737 150.579 256.302 Q152.408 259.843 156.019 259.843 Q159.653 259.843 161.459 256.302 Q163.288 252.737 163.288 245.63 Q163.288 238.501 161.459 234.959 Q159.653 231.394 156.019 231.394 M156.019 227.691 Q161.829 227.691 164.885 232.297 Q167.964 236.88 167.964 245.63 Q167.964 254.357 164.885 258.964 Q161.829 263.547 156.019 263.547 Q150.209 263.547 147.13 258.964 Q144.075 254.357 144.075 245.63 Q144.075 236.88 147.13 232.297 Q150.209 227.691 156.019 227.691 Z\" fill=\"#000000\" fill-rule=\"evenodd\" fill-opacity=\"1\" /><path clip-path=\"url(#clip150)\" d=\"M186.181 231.394 Q182.57 231.394 180.741 234.959 Q178.936 238.501 178.936 245.63 Q178.936 252.737 180.741 256.302 Q182.57 259.843 186.181 259.843 Q189.815 259.843 191.621 256.302 Q193.45 252.737 193.45 245.63 Q193.45 238.501 191.621 234.959 Q189.815 231.394 186.181 231.394 M186.181 227.691 Q191.991 227.691 195.047 232.297 Q198.125 236.88 198.125 245.63 Q198.125 254.357 195.047 258.964 Q191.991 263.547 186.181 263.547 Q180.371 263.547 177.292 258.964 Q174.237 254.357 174.237 245.63 Q174.237 236.88 177.292 232.297 Q180.371 227.691 186.181 227.691 Z\" fill=\"#000000\" fill-rule=\"evenodd\" fill-opacity=\"1\" /><path clip-path=\"url(#clip150)\" d=\"M16.4842 899.415 L16.4842 872.106 L21.895 872.106 L21.895 892.986 L35.8996 892.986 L35.8996 874.144 L41.3104 874.144 L41.3104 892.986 L64.0042 892.986 L64.0042 899.415 L16.4842 899.415 Z\" fill=\"#000000\" fill-rule=\"evenodd\" fill-opacity=\"1\" /><path clip-path=\"url(#clip150)\" d=\"M33.8307 846.262 Q33.2578 847.248 33.0032 848.426 Q32.7167 849.572 32.7167 850.972 Q32.7167 855.938 35.9632 858.611 Q39.1779 861.253 45.2253 861.253 L64.0042 861.253 L64.0042 867.141 L28.3562 867.141 L28.3562 861.253 L33.8944 861.253 Q30.6479 859.407 29.0883 856.447 Q27.4968 853.487 27.4968 849.254 Q27.4968 848.649 27.5923 847.917 Q27.656 847.185 27.8151 846.294 L33.8307 846.262 Z\" fill=\"#000000\" fill-rule=\"evenodd\" fill-opacity=\"1\" /><path clip-path=\"url(#clip150)\" d=\"M44.7161 811.059 L47.5806 811.059 L47.5806 837.986 Q53.6281 837.604 56.8109 834.358 Q59.9619 831.08 59.9619 825.255 Q59.9619 821.881 59.1344 818.73 Q58.3069 815.547 56.6518 812.428 L62.1899 812.428 Q63.5267 815.579 64.227 818.889 Q64.9272 822.199 64.9272 825.605 Q64.9272 834.135 59.9619 839.132 Q54.9967 844.097 46.5303 844.097 Q37.7774 844.097 32.6531 839.387 Q27.4968 834.644 27.4968 826.624 Q27.4968 819.43 32.1438 815.261 Q36.7589 811.059 44.7161 811.059 M42.9973 816.916 Q38.1912 816.979 35.3266 819.621 Q32.4621 822.231 32.4621 826.56 Q32.4621 831.461 35.2312 834.422 Q38.0002 837.35 43.0292 837.795 L42.9973 816.916 Z\" fill=\"#000000\" fill-rule=\"evenodd\" fill-opacity=\"1\" /><path clip-path=\"url(#clip150)\" d=\"M46.212 797.946 Q52.6732 797.946 56.3653 795.304 Q60.0256 792.631 60.0256 787.984 Q60.0256 783.337 56.3653 780.663 Q52.6732 777.99 46.212 777.99 Q39.7508 777.99 36.0905 780.663 Q32.3984 783.337 32.3984 787.984 Q32.3984 792.631 36.0905 795.304 Q39.7508 797.946 46.212 797.946 M58.657 777.99 Q61.8398 779.836 63.3994 782.668 Q64.9272 785.469 64.9272 789.416 Q64.9272 795.877 59.771 799.951 Q54.6147 803.993 46.212 803.993 Q37.8093 803.993 32.6531 799.951 Q27.4968 795.877 27.4968 789.416 Q27.4968 785.469 29.0564 782.668 Q30.5842 779.836 33.7671 777.99 L28.3562 777.99 L28.3562 772.133 L77.5631 772.133 L77.5631 777.99 L58.657 777.99 Z\" fill=\"#000000\" fill-rule=\"evenodd\" fill-opacity=\"1\" /><path clip-path=\"url(#clip150)\" d=\"M49.9359 760.675 L28.3562 760.675 L28.3562 754.818 L49.7131 754.818 Q54.7739 754.818 57.3202 752.845 Q59.8346 750.872 59.8346 746.925 Q59.8346 742.182 56.8109 739.445 Q53.7872 736.676 48.5673 736.676 L28.3562 736.676 L28.3562 730.82 L64.0042 730.82 L64.0042 736.676 L58.5296 736.676 Q61.7762 738.809 63.3676 741.641 Q64.9272 744.442 64.9272 748.166 Q64.9272 754.309 61.1078 757.492 Q57.2883 760.675 49.9359 760.675 M27.4968 745.938 L27.4968 745.938 Z\" fill=\"#000000\" fill-rule=\"evenodd\" fill-opacity=\"1\" /><path clip-path=\"url(#clip150)\" d=\"M44.7161 688.265 L47.5806 688.265 L47.5806 715.192 Q53.6281 714.81 56.8109 711.563 Q59.9619 708.285 59.9619 702.46 Q59.9619 699.087 59.1344 695.936 Q58.3069 692.753 56.6518 689.634 L62.1899 689.634 Q63.5267 692.785 64.227 696.095 Q64.9272 699.405 64.9272 702.811 Q64.9272 711.341 59.9619 716.338 Q54.9967 721.303 46.5303 721.303 Q37.7774 721.303 32.6531 716.592 Q27.4968 711.85 27.4968 703.829 Q27.4968 696.636 32.1438 692.466 Q36.7589 688.265 44.7161 688.265 M42.9973 694.121 Q38.1912 694.185 35.3266 696.827 Q32.4621 699.437 32.4621 703.765 Q32.4621 708.667 35.2312 711.627 Q38.0002 714.555 43.0292 715.001 L42.9973 694.121 Z\" fill=\"#000000\" fill-rule=\"evenodd\" fill-opacity=\"1\" /><path clip-path=\"url(#clip150)\" d=\"M42.4881 649.02 L64.0042 649.02 L64.0042 654.877 L42.679 654.877 Q37.6183 654.877 35.1038 656.85 Q32.5894 658.823 32.5894 662.77 Q32.5894 667.513 35.6131 670.25 Q38.6368 672.987 43.8567 672.987 L64.0042 672.987 L64.0042 678.875 L28.3562 678.875 L28.3562 672.987 L33.8944 672.987 Q30.6797 670.887 29.0883 668.054 Q27.4968 665.189 27.4968 661.465 Q27.4968 655.322 31.3163 652.171 Q35.1038 649.02 42.4881 649.02 Z\" fill=\"#000000\" fill-rule=\"evenodd\" fill-opacity=\"1\" /><path clip-path=\"url(#clip150)\" d=\"M29.7248 611.685 L35.1993 611.685 Q33.8307 614.168 33.1623 616.683 Q32.4621 619.165 32.4621 621.711 Q32.4621 627.409 36.0905 630.56 Q39.6872 633.711 46.212 633.711 Q52.7369 633.711 56.3653 630.56 Q59.9619 627.409 59.9619 621.711 Q59.9619 619.165 59.2935 616.683 Q58.5933 614.168 57.2247 611.685 L62.6355 611.685 Q63.7814 614.136 64.3543 616.778 Q64.9272 619.388 64.9272 622.348 Q64.9272 630.401 59.8664 635.143 Q54.8057 639.886 46.212 639.886 Q37.491 639.886 32.4939 635.111 Q27.4968 630.305 27.4968 621.966 Q27.4968 619.261 28.0697 616.683 Q28.6108 614.104 29.7248 611.685 Z\" fill=\"#000000\" fill-rule=\"evenodd\" fill-opacity=\"1\" /><path clip-path=\"url(#clip150)\" d=\"M67.3143 586.668 Q73.68 589.151 75.6216 591.506 Q77.5631 593.861 77.5631 597.808 L77.5631 602.487 L72.6615 602.487 L72.6615 599.05 Q72.6615 596.631 71.5157 595.294 Q70.3699 593.957 66.1048 592.334 L63.4312 591.283 L28.3562 605.702 L28.3562 599.495 L56.238 588.355 L28.3562 577.215 L28.3562 571.009 L67.3143 586.668 Z\" fill=\"#000000\" fill-rule=\"evenodd\" fill-opacity=\"1\" /><path clip-path=\"url(#clip152)\" d=\"\n",
       "M350.654 1378.55 L350.654 1384.24 L436.362 1384.24 L436.362 1378.55 L350.654 1378.55 L350.654 1378.55  Z\n",
       "  \" fill=\"#009af9\" fill-rule=\"evenodd\" fill-opacity=\"1\"/>\n",
       "<polyline clip-path=\"url(#clip152)\" style=\"stroke:#000000; stroke-linecap:butt; stroke-linejoin:round; stroke-width:4; stroke-opacity:1; fill:none\" points=\"\n",
       "  350.654,1378.55 350.654,1384.24 436.362,1384.24 436.362,1378.55 350.654,1378.55 \n",
       "  \"/>\n",
       "<path clip-path=\"url(#clip152)\" d=\"\n",
       "M436.362 1378.55 L436.362 1384.24 L522.07 1384.24 L522.07 1378.55 L436.362 1378.55 L436.362 1378.55  Z\n",
       "  \" fill=\"#009af9\" fill-rule=\"evenodd\" fill-opacity=\"1\"/>\n",
       "<polyline clip-path=\"url(#clip152)\" style=\"stroke:#000000; stroke-linecap:butt; stroke-linejoin:round; stroke-width:4; stroke-opacity:1; fill:none\" points=\"\n",
       "  436.362,1378.55 436.362,1384.24 522.07,1384.24 522.07,1378.55 436.362,1378.55 \n",
       "  \"/>\n",
       "<path clip-path=\"url(#clip152)\" d=\"\n",
       "M522.07 1378.55 L522.07 1384.24 L607.778 1384.24 L607.778 1378.55 L522.07 1378.55 L522.07 1378.55  Z\n",
       "  \" fill=\"#009af9\" fill-rule=\"evenodd\" fill-opacity=\"1\"/>\n",
       "<polyline clip-path=\"url(#clip152)\" style=\"stroke:#000000; stroke-linecap:butt; stroke-linejoin:round; stroke-width:4; stroke-opacity:1; fill:none\" points=\"\n",
       "  522.07,1378.55 522.07,1384.24 607.778,1384.24 607.778,1378.55 522.07,1378.55 \n",
       "  \"/>\n",
       "<path clip-path=\"url(#clip152)\" d=\"\n",
       "M607.778 1378.55 L607.778 1384.24 L693.485 1384.24 L693.485 1378.55 L607.778 1378.55 L607.778 1378.55  Z\n",
       "  \" fill=\"#009af9\" fill-rule=\"evenodd\" fill-opacity=\"1\"/>\n",
       "<polyline clip-path=\"url(#clip152)\" style=\"stroke:#000000; stroke-linecap:butt; stroke-linejoin:round; stroke-width:4; stroke-opacity:1; fill:none\" points=\"\n",
       "  607.778,1378.55 607.778,1384.24 693.485,1384.24 693.485,1378.55 607.778,1378.55 \n",
       "  \"/>\n",
       "<path clip-path=\"url(#clip152)\" d=\"\n",
       "M693.485 1372.85 L693.485 1384.24 L779.193 1384.24 L779.193 1372.85 L693.485 1372.85 L693.485 1372.85  Z\n",
       "  \" fill=\"#009af9\" fill-rule=\"evenodd\" fill-opacity=\"1\"/>\n",
       "<polyline clip-path=\"url(#clip152)\" style=\"stroke:#000000; stroke-linecap:butt; stroke-linejoin:round; stroke-width:4; stroke-opacity:1; fill:none\" points=\"\n",
       "  693.485,1372.85 693.485,1384.24 779.193,1384.24 779.193,1372.85 693.485,1372.85 \n",
       "  \"/>\n",
       "<path clip-path=\"url(#clip152)\" d=\"\n",
       "M779.193 1367.16 L779.193 1384.24 L864.901 1384.24 L864.901 1367.16 L779.193 1367.16 L779.193 1367.16  Z\n",
       "  \" fill=\"#009af9\" fill-rule=\"evenodd\" fill-opacity=\"1\"/>\n",
       "<polyline clip-path=\"url(#clip152)\" style=\"stroke:#000000; stroke-linecap:butt; stroke-linejoin:round; stroke-width:4; stroke-opacity:1; fill:none\" points=\"\n",
       "  779.193,1367.16 779.193,1384.24 864.901,1384.24 864.901,1367.16 779.193,1367.16 \n",
       "  \"/>\n",
       "<path clip-path=\"url(#clip152)\" d=\"\n",
       "M864.901 1361.47 L864.901 1384.24 L950.609 1384.24 L950.609 1361.47 L864.901 1361.47 L864.901 1361.47  Z\n",
       "  \" fill=\"#009af9\" fill-rule=\"evenodd\" fill-opacity=\"1\"/>\n",
       "<polyline clip-path=\"url(#clip152)\" style=\"stroke:#000000; stroke-linecap:butt; stroke-linejoin:round; stroke-width:4; stroke-opacity:1; fill:none\" points=\"\n",
       "  864.901,1361.47 864.901,1384.24 950.609,1384.24 950.609,1361.47 864.901,1361.47 \n",
       "  \"/>\n",
       "<path clip-path=\"url(#clip152)\" d=\"\n",
       "M950.609 1350.08 L950.609 1384.24 L1036.32 1384.24 L1036.32 1350.08 L950.609 1350.08 L950.609 1350.08  Z\n",
       "  \" fill=\"#009af9\" fill-rule=\"evenodd\" fill-opacity=\"1\"/>\n",
       "<polyline clip-path=\"url(#clip152)\" style=\"stroke:#000000; stroke-linecap:butt; stroke-linejoin:round; stroke-width:4; stroke-opacity:1; fill:none\" points=\"\n",
       "  950.609,1350.08 950.609,1384.24 1036.32,1384.24 1036.32,1350.08 950.609,1350.08 \n",
       "  \"/>\n",
       "<path clip-path=\"url(#clip152)\" d=\"\n",
       "M1036.32 1338.69 L1036.32 1384.24 L1122.02 1384.24 L1122.02 1338.69 L1036.32 1338.69 L1036.32 1338.69  Z\n",
       "  \" fill=\"#009af9\" fill-rule=\"evenodd\" fill-opacity=\"1\"/>\n",
       "<polyline clip-path=\"url(#clip152)\" style=\"stroke:#000000; stroke-linecap:butt; stroke-linejoin:round; stroke-width:4; stroke-opacity:1; fill:none\" points=\"\n",
       "  1036.32,1338.69 1036.32,1384.24 1122.02,1384.24 1122.02,1338.69 1036.32,1338.69 \n",
       "  \"/>\n",
       "<path clip-path=\"url(#clip152)\" d=\"\n",
       "M1122.02 1327.31 L1122.02 1384.24 L1207.73 1384.24 L1207.73 1327.31 L1122.02 1327.31 L1122.02 1327.31  Z\n",
       "  \" fill=\"#009af9\" fill-rule=\"evenodd\" fill-opacity=\"1\"/>\n",
       "<polyline clip-path=\"url(#clip152)\" style=\"stroke:#000000; stroke-linecap:butt; stroke-linejoin:round; stroke-width:4; stroke-opacity:1; fill:none\" points=\"\n",
       "  1122.02,1327.31 1122.02,1384.24 1207.73,1384.24 1207.73,1327.31 1122.02,1327.31 \n",
       "  \"/>\n",
       "<path clip-path=\"url(#clip152)\" d=\"\n",
       "M1207.73 1298.84 L1207.73 1384.24 L1293.44 1384.24 L1293.44 1298.84 L1207.73 1298.84 L1207.73 1298.84  Z\n",
       "  \" fill=\"#009af9\" fill-rule=\"evenodd\" fill-opacity=\"1\"/>\n",
       "<polyline clip-path=\"url(#clip152)\" style=\"stroke:#000000; stroke-linecap:butt; stroke-linejoin:round; stroke-width:4; stroke-opacity:1; fill:none\" points=\"\n",
       "  1207.73,1298.84 1207.73,1384.24 1293.44,1384.24 1293.44,1298.84 1207.73,1298.84 \n",
       "  \"/>\n",
       "<path clip-path=\"url(#clip152)\" d=\"\n",
       "M1293.44 1276.07 L1293.44 1384.24 L1379.15 1384.24 L1379.15 1276.07 L1293.44 1276.07 L1293.44 1276.07  Z\n",
       "  \" fill=\"#009af9\" fill-rule=\"evenodd\" fill-opacity=\"1\"/>\n",
       "<polyline clip-path=\"url(#clip152)\" style=\"stroke:#000000; stroke-linecap:butt; stroke-linejoin:round; stroke-width:4; stroke-opacity:1; fill:none\" points=\"\n",
       "  1293.44,1276.07 1293.44,1384.24 1379.15,1384.24 1379.15,1276.07 1293.44,1276.07 \n",
       "  \"/>\n",
       "<path clip-path=\"url(#clip152)\" d=\"\n",
       "M1379.15 1241.91 L1379.15 1384.24 L1464.86 1384.24 L1464.86 1241.91 L1379.15 1241.91 L1379.15 1241.91  Z\n",
       "  \" fill=\"#009af9\" fill-rule=\"evenodd\" fill-opacity=\"1\"/>\n",
       "<polyline clip-path=\"url(#clip152)\" style=\"stroke:#000000; stroke-linecap:butt; stroke-linejoin:round; stroke-width:4; stroke-opacity:1; fill:none\" points=\"\n",
       "  1379.15,1241.91 1379.15,1384.24 1464.86,1384.24 1464.86,1241.91 1379.15,1241.91 \n",
       "  \"/>\n",
       "<path clip-path=\"url(#clip152)\" d=\"\n",
       "M1464.86 1190.67 L1464.86 1384.24 L1550.56 1384.24 L1550.56 1190.67 L1464.86 1190.67 L1464.86 1190.67  Z\n",
       "  \" fill=\"#009af9\" fill-rule=\"evenodd\" fill-opacity=\"1\"/>\n",
       "<polyline clip-path=\"url(#clip152)\" style=\"stroke:#000000; stroke-linecap:butt; stroke-linejoin:round; stroke-width:4; stroke-opacity:1; fill:none\" points=\"\n",
       "  1464.86,1190.67 1464.86,1384.24 1550.56,1384.24 1550.56,1190.67 1464.86,1190.67 \n",
       "  \"/>\n",
       "<path clip-path=\"url(#clip152)\" d=\"\n",
       "M1550.56 1122.35 L1550.56 1384.24 L1636.27 1384.24 L1636.27 1122.35 L1550.56 1122.35 L1550.56 1122.35  Z\n",
       "  \" fill=\"#009af9\" fill-rule=\"evenodd\" fill-opacity=\"1\"/>\n",
       "<polyline clip-path=\"url(#clip152)\" style=\"stroke:#000000; stroke-linecap:butt; stroke-linejoin:round; stroke-width:4; stroke-opacity:1; fill:none\" points=\"\n",
       "  1550.56,1122.35 1550.56,1384.24 1636.27,1384.24 1636.27,1122.35 1550.56,1122.35 \n",
       "  \"/>\n",
       "<path clip-path=\"url(#clip152)\" d=\"\n",
       "M1636.27 1048.34 L1636.27 1384.24 L1721.98 1384.24 L1721.98 1048.34 L1636.27 1048.34 L1636.27 1048.34  Z\n",
       "  \" fill=\"#009af9\" fill-rule=\"evenodd\" fill-opacity=\"1\"/>\n",
       "<polyline clip-path=\"url(#clip152)\" style=\"stroke:#000000; stroke-linecap:butt; stroke-linejoin:round; stroke-width:4; stroke-opacity:1; fill:none\" points=\"\n",
       "  1636.27,1048.34 1636.27,1384.24 1721.98,1384.24 1721.98,1048.34 1636.27,1048.34 \n",
       "  \"/>\n",
       "<path clip-path=\"url(#clip152)\" d=\"\n",
       "M1721.98 934.474 L1721.98 1384.24 L1807.69 1384.24 L1807.69 934.474 L1721.98 934.474 L1721.98 934.474  Z\n",
       "  \" fill=\"#009af9\" fill-rule=\"evenodd\" fill-opacity=\"1\"/>\n",
       "<polyline clip-path=\"url(#clip152)\" style=\"stroke:#000000; stroke-linecap:butt; stroke-linejoin:round; stroke-width:4; stroke-opacity:1; fill:none\" points=\"\n",
       "  1721.98,934.474 1721.98,1384.24 1807.69,1384.24 1807.69,934.474 1721.98,934.474 \n",
       "  \"/>\n",
       "<path clip-path=\"url(#clip152)\" d=\"\n",
       "M1807.69 792.144 L1807.69 1384.24 L1893.4 1384.24 L1893.4 792.144 L1807.69 792.144 L1807.69 792.144  Z\n",
       "  \" fill=\"#009af9\" fill-rule=\"evenodd\" fill-opacity=\"1\"/>\n",
       "<polyline clip-path=\"url(#clip152)\" style=\"stroke:#000000; stroke-linecap:butt; stroke-linejoin:round; stroke-width:4; stroke-opacity:1; fill:none\" points=\"\n",
       "  1807.69,792.144 1807.69,1384.24 1893.4,1384.24 1893.4,792.144 1807.69,792.144 \n",
       "  \"/>\n",
       "<path clip-path=\"url(#clip152)\" d=\"\n",
       "M1893.4 615.654 L1893.4 1384.24 L1979.1 1384.24 L1979.1 615.654 L1893.4 615.654 L1893.4 615.654  Z\n",
       "  \" fill=\"#009af9\" fill-rule=\"evenodd\" fill-opacity=\"1\"/>\n",
       "<polyline clip-path=\"url(#clip152)\" style=\"stroke:#000000; stroke-linecap:butt; stroke-linejoin:round; stroke-width:4; stroke-opacity:1; fill:none\" points=\"\n",
       "  1893.4,615.654 1893.4,1384.24 1979.1,1384.24 1979.1,615.654 1893.4,615.654 \n",
       "  \"/>\n",
       "<path clip-path=\"url(#clip152)\" d=\"\n",
       "M1979.1 382.233 L1979.1 1384.24 L2064.81 1384.24 L2064.81 382.233 L1979.1 382.233 L1979.1 382.233  Z\n",
       "  \" fill=\"#009af9\" fill-rule=\"evenodd\" fill-opacity=\"1\"/>\n",
       "<polyline clip-path=\"url(#clip152)\" style=\"stroke:#000000; stroke-linecap:butt; stroke-linejoin:round; stroke-width:4; stroke-opacity:1; fill:none\" points=\"\n",
       "  1979.1,382.233 1979.1,1384.24 2064.81,1384.24 2064.81,382.233 1979.1,382.233 \n",
       "  \"/>\n",
       "<path clip-path=\"url(#clip152)\" d=\"\n",
       "M2064.81 86.1857 L2064.81 1384.24 L2150.52 1384.24 L2150.52 86.1857 L2064.81 86.1857 L2064.81 86.1857  Z\n",
       "  \" fill=\"#009af9\" fill-rule=\"evenodd\" fill-opacity=\"1\"/>\n",
       "<polyline clip-path=\"url(#clip152)\" style=\"stroke:#000000; stroke-linecap:butt; stroke-linejoin:round; stroke-width:4; stroke-opacity:1; fill:none\" points=\"\n",
       "  2064.81,86.1857 2064.81,1384.24 2150.52,1384.24 2150.52,86.1857 2064.81,86.1857 \n",
       "  \"/>\n",
       "<path clip-path=\"url(#clip152)\" d=\"\n",
       "M2150.52 1145.12 L2150.52 1384.24 L2236.23 1384.24 L2236.23 1145.12 L2150.52 1145.12 L2150.52 1145.12  Z\n",
       "  \" fill=\"#009af9\" fill-rule=\"evenodd\" fill-opacity=\"1\"/>\n",
       "<polyline clip-path=\"url(#clip152)\" style=\"stroke:#000000; stroke-linecap:butt; stroke-linejoin:round; stroke-width:4; stroke-opacity:1; fill:none\" points=\"\n",
       "  2150.52,1145.12 2150.52,1384.24 2236.23,1384.24 2236.23,1145.12 2150.52,1145.12 \n",
       "  \"/>\n",
       "<circle clip-path=\"url(#clip152)\" style=\"fill:#009af9; stroke:none; fill-opacity:0\" cx=\"393.508\" cy=\"1378.55\" r=\"2\"/>\n",
       "<circle clip-path=\"url(#clip152)\" style=\"fill:#009af9; stroke:none; fill-opacity:0\" cx=\"479.216\" cy=\"1378.55\" r=\"2\"/>\n",
       "<circle clip-path=\"url(#clip152)\" style=\"fill:#009af9; stroke:none; fill-opacity:0\" cx=\"564.924\" cy=\"1378.55\" r=\"2\"/>\n",
       "<circle clip-path=\"url(#clip152)\" style=\"fill:#009af9; stroke:none; fill-opacity:0\" cx=\"650.632\" cy=\"1378.55\" r=\"2\"/>\n",
       "<circle clip-path=\"url(#clip152)\" style=\"fill:#009af9; stroke:none; fill-opacity:0\" cx=\"736.339\" cy=\"1372.85\" r=\"2\"/>\n",
       "<circle clip-path=\"url(#clip152)\" style=\"fill:#009af9; stroke:none; fill-opacity:0\" cx=\"822.047\" cy=\"1367.16\" r=\"2\"/>\n",
       "<circle clip-path=\"url(#clip152)\" style=\"fill:#009af9; stroke:none; fill-opacity:0\" cx=\"907.755\" cy=\"1361.47\" r=\"2\"/>\n",
       "<circle clip-path=\"url(#clip152)\" style=\"fill:#009af9; stroke:none; fill-opacity:0\" cx=\"993.463\" cy=\"1350.08\" r=\"2\"/>\n",
       "<circle clip-path=\"url(#clip152)\" style=\"fill:#009af9; stroke:none; fill-opacity:0\" cx=\"1079.17\" cy=\"1338.69\" r=\"2\"/>\n",
       "<circle clip-path=\"url(#clip152)\" style=\"fill:#009af9; stroke:none; fill-opacity:0\" cx=\"1164.88\" cy=\"1327.31\" r=\"2\"/>\n",
       "<circle clip-path=\"url(#clip152)\" style=\"fill:#009af9; stroke:none; fill-opacity:0\" cx=\"1250.59\" cy=\"1298.84\" r=\"2\"/>\n",
       "<circle clip-path=\"url(#clip152)\" style=\"fill:#009af9; stroke:none; fill-opacity:0\" cx=\"1336.29\" cy=\"1276.07\" r=\"2\"/>\n",
       "<circle clip-path=\"url(#clip152)\" style=\"fill:#009af9; stroke:none; fill-opacity:0\" cx=\"1422\" cy=\"1241.91\" r=\"2\"/>\n",
       "<circle clip-path=\"url(#clip152)\" style=\"fill:#009af9; stroke:none; fill-opacity:0\" cx=\"1507.71\" cy=\"1190.67\" r=\"2\"/>\n",
       "<circle clip-path=\"url(#clip152)\" style=\"fill:#009af9; stroke:none; fill-opacity:0\" cx=\"1593.42\" cy=\"1122.35\" r=\"2\"/>\n",
       "<circle clip-path=\"url(#clip152)\" style=\"fill:#009af9; stroke:none; fill-opacity:0\" cx=\"1679.13\" cy=\"1048.34\" r=\"2\"/>\n",
       "<circle clip-path=\"url(#clip152)\" style=\"fill:#009af9; stroke:none; fill-opacity:0\" cx=\"1764.83\" cy=\"934.474\" r=\"2\"/>\n",
       "<circle clip-path=\"url(#clip152)\" style=\"fill:#009af9; stroke:none; fill-opacity:0\" cx=\"1850.54\" cy=\"792.144\" r=\"2\"/>\n",
       "<circle clip-path=\"url(#clip152)\" style=\"fill:#009af9; stroke:none; fill-opacity:0\" cx=\"1936.25\" cy=\"615.654\" r=\"2\"/>\n",
       "<circle clip-path=\"url(#clip152)\" style=\"fill:#009af9; stroke:none; fill-opacity:0\" cx=\"2021.96\" cy=\"382.233\" r=\"2\"/>\n",
       "<circle clip-path=\"url(#clip152)\" style=\"fill:#009af9; stroke:none; fill-opacity:0\" cx=\"2107.67\" cy=\"86.1857\" r=\"2\"/>\n",
       "<circle clip-path=\"url(#clip152)\" style=\"fill:#009af9; stroke:none; fill-opacity:0\" cx=\"2193.37\" cy=\"1145.12\" r=\"2\"/>\n",
       "</svg>\n"
      ]
     },
     "execution_count": 12,
     "metadata": {},
     "output_type": "execute_result"
    }
   ],
   "source": [
    "N = 1000\n",
    "t = collect(1.0:N).^(1.05)\n",
    "w = 0.008\n",
    "K = 5\n",
    "\n",
    "histogram(diff(t),legend=false,xlabel=\"dt\",ylabel=\"Frequency\")"
   ]
  },
  {
   "cell_type": "code",
   "execution_count": 13,
   "metadata": {
    "ExecuteTime": {
     "end_time": "2021-02-12T15:48:19.380000-06:00",
     "start_time": "2021-02-12T21:48:18.957Z"
    }
   },
   "outputs": [
    {
     "ename": "LoadError",
     "evalue": "\u001b[91mUndefVarError: mean not defined\u001b[39m",
     "output_type": "error",
     "traceback": [
      "\u001b[91mUndefVarError: mean not defined\u001b[39m",
      "",
      "Stacktrace:",
      " [1] gpss(::Float64, ::Int64, ::Array{Float64,1}, ::Float64; beta::Float64) at /Users/charlottehaley/.julia/packages/Slepians/4KwIk/src/gpss.jl:65",
      " [2] gpss(::Float64, ::Int64, ::Array{Float64,1}, ::Float64) at /Users/charlottehaley/.julia/packages/Slepians/4KwIk/src/gpss.jl:44",
      " [3] top-level scope at In[13]:1",
      " [4] include_string(::Function, ::Module, ::String, ::String) at ./loading.jl:1091"
     ]
    }
   ],
   "source": [
    "lamc, slepsc, cho = gpss(w, K, t, 0.0)\n",
    "slepsc = cho.L*slepsc\n",
    "size(slepsc)\n",
    "\n",
    "p1 = plot(t,real.(slepsc), ylabel= \"Real\", label=collect(1:5)',legend=:topright)\n",
    "p2 = plot(t,imag.(slepsc), ylabel= \"Imaginary\", label=collect(1:5)',legend=:topright,linestyle=:dash)\n",
    "p = plot(p1,p2,layout = (2,1))"
   ]
  },
  {
   "cell_type": "code",
   "execution_count": 14,
   "metadata": {
    "ExecuteTime": {
     "end_time": "2021-02-12T15:48:21.603000-06:00",
     "start_time": "2021-02-12T21:48:19.159Z"
    }
   },
   "outputs": [
    {
     "ename": "LoadError",
     "evalue": "\u001b[91mUndefVarError: slepsc not defined\u001b[39m",
     "output_type": "error",
     "traceback": [
      "\u001b[91mUndefVarError: slepsc not defined\u001b[39m",
      "",
      "Stacktrace:",
      " [1] top-level scope at In[14]:2",
      " [2] include_string(::Function, ::Module, ::String, ::String) at ./loading.jl:1091"
     ]
    }
   ],
   "source": [
    "# Checking orthogonality\n",
    "slepsc'*slepsc"
   ]
  },
  {
   "cell_type": "code",
   "execution_count": 15,
   "metadata": {},
   "outputs": [
    {
     "ename": "LoadError",
     "evalue": "\u001b[91mUndefVarError: slepsc not defined\u001b[39m",
     "output_type": "error",
     "traceback": [
      "\u001b[91mUndefVarError: slepsc not defined\u001b[39m",
      "",
      "Stacktrace:",
      " [1] (::var\"#3#4\")(::Int64) at ./In[15]:3",
      " [2] _mapreduce(::var\"#3#4\", ::typeof(hcat), ::IndexLinear, ::UnitRange{Int64}) at ./reduce.jl:408",
      " [3] _mapreduce_dim(::Function, ::Function, ::NamedTuple{(),Tuple{}}, ::UnitRange{Int64}, ::Colon) at ./reducedim.jl:318",
      " [4] #mapreduce#620 at ./reducedim.jl:310 [inlined]",
      " [5] mapreduce(::Function, ::Function, ::UnitRange{Int64}) at ./reducedim.jl:310",
      " [6] top-level scope at In[15]:3",
      " [7] include_string(::Function, ::Module, ::String, ::String) at ./loading.jl:1091"
     ]
    }
   ],
   "source": [
    "freqs = LinRange(-0.5, 0.5, N+1)[1:N]\n",
    "\n",
    "ftsleps = mapreduce(k->abs2.(nufft1d3(2*pi*t, ComplexF64.(slepsc[:,k]), -1, 1e-15, collect(freqs))),hcat, 1:K)\n",
    "\n",
    "p3 = plot(freqs[501:1000], ftsleps[501:1000,:], yscale=:log10, xscale = :log10,\n",
    "    #title = \"Unequally-spaced Slepians at frequency 0.0\",\n",
    "    legend=:false)\n",
    "plot!(p3,w*[1,1],[1e-20,1e2])\n",
    "plot!(p3,[1e-10, 0.5],1e-15*ones(2), label = \"tolerance for FINUFFT algorithm\")\n",
    "plot(p,p3,layout=(1,2),size=(900,500))\n"
   ]
  },
  {
   "cell_type": "code",
   "execution_count": 6,
   "metadata": {
    "ExecuteTime": {
     "end_time": "2021-02-12T15:48:21.867000-06:00",
     "start_time": "2021-02-12T21:48:19.486Z"
    }
   },
   "outputs": [
    {
     "ename": "LoadError",
     "evalue": "\u001b[91mUndefVarError: slepsc not defined\u001b[39m",
     "output_type": "error",
     "traceback": [
      "\u001b[91mUndefVarError: slepsc not defined\u001b[39m",
      "",
      "Stacktrace:",
      " [1] top-level scope at In[6]:1",
      " [2] include_string(::Function, ::Module, ::String, ::String) at ./loading.jl:1091"
     ]
    }
   ],
   "source": [
    "p1 = plot(t,real.(slepsc), label=collect(1:5)',legend=:topright)\n",
    "plot!(p1,t,imag.(slepsc), label=collect(1:5)',legend=:topright,linestyle=:dash)\n",
    "p = plot(p1,p3,layout=(1,2),size=(900,350))"
   ]
  },
  {
   "cell_type": "markdown",
   "metadata": {},
   "source": [
    "# Now we go in and produce an NFFT based estimate of the power"
   ]
  },
  {
   "cell_type": "markdown",
   "metadata": {},
   "source": [
    "As promised, we get excellent concentration properties."
   ]
  },
  {
   "cell_type": "markdown",
   "metadata": {},
   "source": [
    "Finally, to enhance the look of the bandwidth choice, plot the frequency scale on a symmetric log-log plot (two axes split, one reversed, and omitting zero)."
   ]
  },
  {
   "cell_type": "code",
   "execution_count": 7,
   "metadata": {
    "ExecuteTime": {
     "end_time": "2021-02-12T15:48:22.183000-06:00",
     "start_time": "2021-02-12T21:48:20.982Z"
    }
   },
   "outputs": [
    {
     "ename": "LoadError",
     "evalue": "\u001b[91mUndefVarError: ftsleps not defined\u001b[39m",
     "output_type": "error",
     "traceback": [
      "\u001b[91mUndefVarError: ftsleps not defined\u001b[39m",
      "",
      "Stacktrace:",
      " [1] top-level scope at In[7]:4",
      " [2] include_string(::Function, ::Module, ::String, ::String) at ./loading.jl:1091"
     ]
    }
   ],
   "source": [
    "poshalf = Int64(round(N/2+2)):N\n",
    "neghalf = 1:Int64(round(N/2))\n",
    "\n",
    "p1a = plot(-freqs[neghalf], ftsleps[neghalf,:],title=\"negative freqs\",\n",
    "    yscale=:log10, xscale = :log10, xaxis=:flip,legend=false)\n",
    "plot!(p1a, w*[1,1], [1e-22,1e2], c = :black)\n",
    "p2 = plot(freqs[poshalf],ftsleps[poshalf,:],yaxis=:false,title=\"positive freqs\",\n",
    "    yscale=:log10,xscale = :log10,legend=false) #,yaxis.guide_position=:right)\n",
    "plot!(p2, w*[1,1], [1e-22,1e2], c = :black)\n",
    "qp = plot(p1a,p2,layout=(1,2))\n",
    "\n",
    "pqq = plot(p1,qp,layout=(1,2),size=(900,375))\n"
   ]
  },
  {
   "cell_type": "markdown",
   "metadata": {},
   "source": [
    "Try another frequency, this time one that will give a complex taper."
   ]
  },
  {
   "cell_type": "code",
   "execution_count": 8,
   "metadata": {
    "ExecuteTime": {
     "end_time": "2021-02-12T15:48:22.643000-06:00",
     "start_time": "2021-02-12T21:48:21.482Z"
    }
   },
   "outputs": [
    {
     "ename": "LoadError",
     "evalue": "\u001b[91mUndefVarError: mean not defined\u001b[39m",
     "output_type": "error",
     "traceback": [
      "\u001b[91mUndefVarError: mean not defined\u001b[39m",
      "",
      "Stacktrace:",
      " [1] gpss(::Float64, ::Int64, ::Array{Float64,1}, ::Float64; beta::Float64) at /Users/charlottehaley/.julia/packages/Slepians/4KwIk/src/gpss.jl:65",
      " [2] gpss(::Float64, ::Int64, ::Array{Float64,1}, ::Float64) at /Users/charlottehaley/.julia/packages/Slepians/4KwIk/src/gpss.jl:44",
      " [3] top-level scope at In[8]:1",
      " [4] include_string(::Function, ::Module, ::String, ::String) at ./loading.jl:1091"
     ]
    }
   ],
   "source": [
    "lamc, slepsc, cho = gpss(w, K, t, 0.2)\n",
    "slepsc = cho.L*slepsc\n",
    "size(slepsc)\n",
    "\n",
    "p1 = plot(t,real.(slepsc), ylabel= \"Real\", label=collect(1:5)',legend=false)\n",
    "p2 = plot(t,imag.(slepsc), ylabel= \"Imaginary\", label=collect(1:5)',legend=false)\n",
    "pq = plot(p1,p2,layout = (2,1))\n",
    "\n",
    "ftsleps = mapreduce(k->abs2.(nufft1d3(2*pi*t, ComplexF64.(slepsc[:,k]), -1, 1e-15, collect(freqs))),hcat, 1:K)\n",
    "\n",
    "p3 = plot(-freqs[neghalf], ftsleps[neghalf,:],\n",
    "    yscale=:log10,xscale = :log10, xaxis=:flip,legend=false,\n",
    "    title=\"negative freqs\")\n",
    "plot!(p3, w*[1,1], [1e-15,1e2], c = :black)\n",
    "p4 = plot(freqs[poshalf], ftsleps[poshalf,:],\n",
    "    yscale=:log10,xscale = :log10,\n",
    "    title=\"positive freqs\") #,yaxis.guide_position=:right)\n",
    "plot!(p4, w*[1,1], [1e-15,1e2], c = :black)\n",
    "pp = plot(p3,p4,layout=(1,2))\n",
    "\n",
    "plot(pq,pp,layout=(1,2),size=(800,400))"
   ]
  },
  {
   "cell_type": "code",
   "execution_count": 9,
   "metadata": {
    "ExecuteTime": {
     "end_time": "2021-02-12T15:48:22.729000-06:00",
     "start_time": "2021-02-12T21:48:21.724Z"
    }
   },
   "outputs": [
    {
     "ename": "LoadError",
     "evalue": "\u001b[91mUndefVarError: slepsc not defined\u001b[39m",
     "output_type": "error",
     "traceback": [
      "\u001b[91mUndefVarError: slepsc not defined\u001b[39m",
      "",
      "Stacktrace:",
      " [1] top-level scope at In[9]:1",
      " [2] include_string(::Function, ::Module, ::String, ::String) at ./loading.jl:1091"
     ]
    }
   ],
   "source": [
    "p1 = plot(t,real.(slepsc), label=collect(1:5)',legend=false)\n",
    "plot!(p1,t,imag.(slepsc), label=collect(1:5)',legend=false,linestyle=:dash)\n",
    "\n",
    "p3 = plot(-freqs[neghalf], ftsleps[neghalf,:],\n",
    "    yscale=:log10,xscale = :log10, xaxis=:flip,legend=false)\n",
    "plot!(p3, w*[1,1], [1e-15,1e2], c = :black)\n",
    "p4 = plot(freqs[poshalf],ftsleps[poshalf,:], legend=false,\n",
    "    yscale=:log10,xscale = :log10,yaxis=false) #,yaxis.guide_position=:right)\n",
    "plot!(p4, w*[1,1], [1e-15,1e2], c = :black)\n",
    "pp = plot(p3,p4,layout=(1,2))\n",
    "\n",
    "q = plot(p1,pp,layout=(1,2),size=(900,375))"
   ]
  },
  {
   "cell_type": "code",
   "execution_count": 10,
   "metadata": {
    "ExecuteTime": {
     "end_time": "2021-02-12T15:48:22.896000-06:00",
     "start_time": "2021-02-12T21:48:22.173Z"
    }
   },
   "outputs": [
    {
     "ename": "LoadError",
     "evalue": "\u001b[91mUndefVarError: pqq not defined\u001b[39m",
     "output_type": "error",
     "traceback": [
      "\u001b[91mUndefVarError: pqq not defined\u001b[39m",
      "",
      "Stacktrace:",
      " [1] top-level scope at In[10]:1",
      " [2] include_string(::Function, ::Module, ::String, ::String) at ./loading.jl:1091"
     ]
    }
   ],
   "source": [
    "plot(pqq,q,layout=(2,1))\n",
    "# savefig(\"gpss.png\")"
   ]
  },
  {
   "cell_type": "code",
   "execution_count": null,
   "metadata": {},
   "outputs": [],
   "source": []
  }
 ],
 "metadata": {
  "@webio": {
   "lastCommId": null,
   "lastKernelId": null
  },
  "kernelspec": {
   "display_name": "Julia 1.5.4",
   "language": "julia",
   "name": "julia-1.5"
  },
  "language_info": {
   "file_extension": ".jl",
   "mimetype": "application/julia",
   "name": "julia",
   "version": "1.5.4"
  },
  "toc": {
   "base_numbering": 1,
   "nav_menu": {},
   "number_sections": true,
   "sideBar": true,
   "skip_h1_title": false,
   "title_cell": "Table of Contents",
   "title_sidebar": "Contents",
   "toc_cell": false,
   "toc_position": {},
   "toc_section_display": true,
   "toc_window_display": false
  }
 },
 "nbformat": 4,
 "nbformat_minor": 4
}
