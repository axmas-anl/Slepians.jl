{
 "cells": [
  {
   "cell_type": "markdown",
   "id": "b9abdcce",
   "metadata": {},
   "source": [
    "# Two dimensional Cartesian Slepians, generalized\n",
    "\n",
    "The idea here is to use slepian_foxtrot to jumpstart an implementation of the Simons code. We should be able to then localize blobs, or splined boundaries of things in order to get the GL nodes and solve the concentration problem. \n",
    "\n",
    "`slepian_foxtrot` depends on `slepian_alpha`, so the routines from `slepian_alpha` that are needed have been collected in an input file. "
   ]
  },
  {
   "cell_type": "code",
   "execution_count": 1,
   "id": "dab60bd6",
   "metadata": {},
   "outputs": [],
   "source": [
    "using FastGaussQuadrature, Plots"
   ]
  },
  {
   "cell_type": "code",
   "execution_count": 2,
   "id": "556987ba",
   "metadata": {},
   "outputs": [
    {
     "name": "stdout",
     "output_type": "stream",
     "text": [
      "Resolution [0.05, 0.05]\n"
     ]
    }
   ],
   "source": [
    "# This code originated with slepian_foxtrot by Simons and Wang, 2010\n",
    "circn = 41\n",
    "XY = hcat(cos.(LinRange(0, 2*pi, circn)), sin.(LinRange(0, 2*pi, circn)))\n",
    "N = 20\n",
    "method = :GL\n",
    "size(XY,2) != 2 && error(\"XY must have 2 columns\")\n",
    "xlimt = [minimum(XY[:,1]), maximum(XY[:,1])]\n",
    "xrange = xlimt[2] - xlimt[1]\n",
    "ylimt = [minimum(XY[:,2]), maximum(XY[:,2])]\n",
    "yrange = ylimt[2] - ylimt[1]\n",
    "dxdy = [5.0, 5.0]/100\n",
    "println(\"Resolution $dxdy\")"
   ]
  },
  {
   "cell_type": "code",
   "execution_count": 3,
   "id": "8409bbb6",
   "metadata": {},
   "outputs": [
    {
     "data": {
      "text/plain": [
       "blob"
      ]
     },
     "execution_count": 3,
     "metadata": {},
     "output_type": "execute_result"
    }
   ],
   "source": [
    "sign(x) = (x >= 0.0) ? 1 : -1\n",
    "\n",
    "include(\"relevant_slepian_alpha.jl\")\n",
    "\n",
    "#=\n",
    "dv, foldi, be = degamini([1, 2, 2, 3])\n",
    "\n",
    "matranges([1, 4, 1, 2, -1, 2])\n",
    "\n",
    "# Demo2 requires blobs (?)\n",
    "\n",
    "xx, yy = blob()\n",
    "plot(xx[1], yy[1])\n",
    "plot!(xx[2], yy[2])\n",
    "plot!(xx[3], yy[3])\n",
    "\n",
    "# Testing complete\n",
    "=#"
   ]
  },
  {
   "cell_type": "code",
   "execution_count": 55,
   "id": "9fc8bfaa",
   "metadata": {},
   "outputs": [
    {
     "data": {
      "text/plain": [
       "([1, 2, 3, 1, 4, 5], [1, 2, 3, 2, 4, 2], [1 1; 2 3; … ; 9 12; 13 14])"
      ]
     },
     "execution_count": 55,
     "metadata": {},
     "output_type": "execute_result"
    }
   ],
   "source": [
    "data = [1, 2, 3, 1, 4, 5]\n",
    "folding = [1, 2, 3, 2, 4, 2]\n",
    "degamini(gamini(data,folding))"
   ]
  },
  {
   "cell_type": "code",
   "execution_count": 20,
   "id": "16a22227",
   "metadata": {},
   "outputs": [
    {
     "name": "stdout",
     "output_type": "stream",
     "text": [
      "Gauss-Legendre method with (32, 32) integration nodes.\n"
     ]
    },
    {
     "data": {
      "text/plain": [
       "32×2 Array{Float64,2}:\n",
       " 1.0  1.0\n",
       " 1.0  1.0\n",
       " 1.0  1.0\n",
       " 1.0  1.0\n",
       " 1.0  1.0\n",
       " 1.0  1.0\n",
       " 1.0  1.0\n",
       " 1.0  1.0\n",
       " 1.0  1.0\n",
       " 1.0  1.0\n",
       " 1.0  1.0\n",
       " 1.0  1.0\n",
       " 1.0  1.0\n",
       " ⋮    \n",
       " 1.0  1.0\n",
       " 1.0  1.0\n",
       " 1.0  1.0\n",
       " 1.0  1.0\n",
       " 1.0  1.0\n",
       " 1.0  1.0\n",
       " 1.0  1.0\n",
       " 1.0  1.0\n",
       " 1.0  1.0\n",
       " 1.0  1.0\n",
       " 1.0  1.0\n",
       " 1.0  1.0"
      ]
     },
     "execution_count": 20,
     "metadata": {},
     "output_type": "execute_result"
    }
   ],
   "source": [
    "# if method == :GL\n",
    "Nqx = 32\n",
    "Nqy = 32\n",
    "println(\"Gauss-Legendre method with ($Nqx, $Nqy) integration nodes.\")\n",
    "# Calculate blanks, xaxis GL points regardless of the data range\n",
    "using FastGaussQuadrature\n",
    "wqx, qx = FastGaussQuadrature.gausslegendre(Nqx)\n",
    "wqy, qy = FastGaussQuadrature.gausslegendre(Nqy)\n",
    "\n",
    "using Random\n",
    "Random.seed!(123)\n",
    "x, y = blob(1,1)\n",
    "thph = hcat(y[1], x[1]) \n",
    "Nth = Int64(floor(rand(1)[1]*300))\n",
    "th = LinRange(minimum(thph[:,1]), maximum(thph[:,1]), Nth)\n",
    "\n",
    "# For each of these points in y find the appropriate ranges of x's\n",
    "# xints, yp, xp, forreal = phicurve(thph, qy) # Line 128 of Localization2D.m\n",
    "th = qy\n",
    "# end\n",
    "\n",
    "using DelimitedFiles\n",
    "writedlm(\"testphint_thph.txt\", thph, \",\")\n",
    "writedlm(\"testphint_th.txt\", th, \",\")\n",
    "\n",
    "phint_matlab = readdlm(\"phint.txt\", ',')\n",
    "thp_matlab = readdlm(\"thp.txt\", ',')\n",
    "php_matlab = readdlm(\"php.txt\", ',')\n",
    "forreal_matlab = readdlm(\"forreal.txt\", ',')\n"
   ]
  },
  {
   "cell_type": "code",
   "execution_count": 58,
   "id": "83621639",
   "metadata": {},
   "outputs": [
    {
     "data": {
      "text/plain": [
       "([0.0 0.0; 0.0 0.0; … ; 0.0 0.0; 0.0 0.0], [0.007018610009470092 0.016274394730905625 … 0.016274394730905625 0.007018610009470092; 0.007018610009470092 0.016274394730905625 … 0.016274394730905625 0.007018610009470092], [NaN NaN … NaN NaN; NaN NaN … NaN NaN], CartesianIndex{2}[])"
      ]
     },
     "execution_count": 58,
     "metadata": {},
     "output_type": "execute_result"
    }
   ],
   "source": [
    "#=\n",
    "\"\"\" \n",
    "\n",
    "    phicurve(thph, th)\n",
    "\n",
    "Adapted from slepian_alpha; finds the longitude crossings and thus integration domains of a closed curve parameterized in colatitude/longitude space at certian query points of colatitude.\n",
    "\n",
    "# Arguments\n",
    "- `thph::` Colatitude/longitude of the closed curve (degrees)\n",
    "- `th::` Colatitude at which crossings are required (degrees)\n",
    "\n",
    "# Outputs\n",
    "- `phint` A matrix with crossings/intervals and zeros of dimensions MxN where M = length(th) and N can be anything depending on the oscillations of the curve\n",
    "- `thp` Colatitude matrix for hatched plotting, if possible\n",
    "- `php` Longitude matrix for hatched plotting, if possible\n",
    "- `forreal` Indices of the ones that are real (could be at zero)\n",
    "\n",
    "Depends on: @sub2ind, @interp1, @degamini, @matranges, and possibly @blob (demo2)\n",
    "\"\"\"\n",
    "function phicurve(thph, th)\n",
    "=#\n",
    "    # Fore every th, find the relevant phint\n",
    "    xmth = repeat(thph[:,1], 1, length(th)) .- repeat(th', length(thph[:,1]), 1)\n",
    "    dsx = diff(sign.(xmth), dims = 1)\n",
    "    # It can be the one before, or after the crossing\n",
    "    # colf, colj = findall(x -> (x != 0.0), dsx)\n",
    "    col = findall(x -> (x != 0.0), dsx)\n",
    "    colf, colj = (map(c -> Tuple(c)[1], col), map(c -> Tuple(c)[2], col))\n",
    "    # colr = sub2ind(dsx, colf, colj) \n",
    "    colr = LinearIndices(dsx)[col]\n",
    "    # This returns the one on the negative side of hte line\n",
    "    colx = colf .+ (dsx[colr] == -2)\n",
    "    colx2 = colx .- (dsx[colr] == -2) .+ (dsx[colr] == 2)\n",
    "    L = length(colx)\n",
    "    (L%2 == 1) && error(\"Cannot find pairs of crossings.\")\n",
    "    phint = zeros(L)\n",
    "    # Then one point was exactly hit, this is the thN or the thS case\n",
    "    if length(colx) == 2 && colx == colx2\n",
    "        phint = thph[hcat(colx[2], colx2[2]), 2]\n",
    "        thp = [th, th]\n",
    "        php = phint\n",
    "    else\n",
    "        for ond = 1:L\n",
    "            # In case you have a node immediately followed by a crossing\n",
    "            phint[ond] = (colx[ond] == colx2[ond]) ? NaN : interp1(xmth[hcat(colx[ond], colx2[ond])], colj[ond], thph(hcat(colx[ond], colx2[ond]),2), 0, :linear) \n",
    "        end\n",
    "    end\n",
    "    # If the NaNs are not consecutive pairs, get special case\n",
    "    # Now rearrange back othte number of requested points\n",
    "    # There could be points with more or less than two crossings\n",
    "    # Maximum number of times a crossing is repeated\n",
    "    a, b =  degamini(colj) \n",
    "    rowj = colj\n",
    "    colj = matranges(Int64.(reshape(hcat(ones(length(b)), b)', length(b)*2, 1)))\n",
    "    pint = repeat([NaN], length(th), maximum(b))\n",
    "    subsi = (colj .- 1) .* length(th) .+ rowj # Linear index\n",
    "    pint[subsi] = phint\n",
    "    wt, thp = (length(b) == length(th)) ? (0, reshape(gamini(th, b), (2, Int64(length(phint)/2)))) : (1, [])\n",
    "    # Need to sort since contour may be given in any order\n",
    "    phint = sort(pint, dims = 2)\n",
    "    php = (wt == 0) ? reshape(phint[subsi], (2, Int64(length(colj)/2))) : [] # line 95\n",
    "    # Make them zero so the integral doesn't do anything\n",
    "    forreal = findall(x -> !isnan(x), phint)\n",
    "    phint[findall(isnan, phint)] .= 0.0\n",
    "    # note: can use (demo2)\n",
    "    # x,y=blob(1,1); thph=hcat(y[:],x[:]); Nth = ceil(rand*300); th=LinRange(minimum(thph[:,1]), maximum(thph[:,1]), Nth)\n",
    "    return phint, thp, php, forreal\n",
    "#end\n"
   ]
  },
  {
   "cell_type": "code",
   "execution_count": 38,
   "id": "e1d794e3",
   "metadata": {},
   "outputs": [
    {
     "data": {
      "text/plain": [
       "false"
      ]
     },
     "execution_count": 38,
     "metadata": {},
     "output_type": "execute_result"
    }
   ],
   "source": [
    "length(colx) == 2 && colx == colx2"
   ]
  },
  {
   "cell_type": "code",
   "execution_count": 59,
   "id": "3723bb1f",
   "metadata": {},
   "outputs": [
    {
     "ename": "LoadError",
     "evalue": "\u001b[91mDimensionMismatch(\"dimensions must match: a has dims (Base.OneTo(32), Base.OneTo(2)), b has dims (Base.OneTo(0),), mismatch at 1\")\u001b[39m",
     "output_type": "error",
     "traceback": [
      "\u001b[91mDimensionMismatch(\"dimensions must match: a has dims (Base.OneTo(32), Base.OneTo(2)), b has dims (Base.OneTo(0),), mismatch at 1\")\u001b[39m",
      "",
      "Stacktrace:",
      " [1] promote_shape at ./indices.jl:178 [inlined]",
      " [2] promote_shape at ./indices.jl:169 [inlined]",
      " [3] -(::Array{Float64,2}, ::Array{CartesianIndex{2},1}) at ./arraymath.jl:38",
      " [4] isapprox(::Array{Float64,2}, ::Array{CartesianIndex{2},1}; atol::Int64, rtol::Float64, nans::Bool, norm::typeof(LinearAlgebra.norm)) at /Users/julia/buildbot/worker/package_macos64/build/usr/share/julia/stdlib/v1.5/LinearAlgebra/src/generic.jl:1635",
      " [5] isapprox(::Array{Float64,2}, ::Array{CartesianIndex{2},1}) at /Users/julia/buildbot/worker/package_macos64/build/usr/share/julia/stdlib/v1.5/LinearAlgebra/src/generic.jl:1635",
      " [6] top-level scope at In[59]:1",
      " [7] include_string(::Function, ::Module, ::String, ::String) at ./loading.jl:1091"
     ]
    }
   ],
   "source": [
    "forreal_matlab ≈ forreal"
   ]
  },
  {
   "cell_type": "code",
   "execution_count": 26,
   "id": "65c2cc26",
   "metadata": {},
   "outputs": [
    {
     "data": {
      "text/plain": [
       "true"
      ]
     },
     "execution_count": 26,
     "metadata": {},
     "output_type": "execute_result"
    }
   ],
   "source": [
    "php_matlab ≈ php"
   ]
  },
  {
   "cell_type": "code",
   "execution_count": 25,
   "id": "7525ec2a",
   "metadata": {},
   "outputs": [
    {
     "data": {
      "text/plain": [
       "true"
      ]
     },
     "execution_count": 25,
     "metadata": {},
     "output_type": "execute_result"
    }
   ],
   "source": [
    "thp_matlab ≈ thp"
   ]
  },
  {
   "cell_type": "code",
   "execution_count": 60,
   "id": "b5b18b7d",
   "metadata": {},
   "outputs": [
    {
     "data": {
      "text/plain": [
       "([0.0 0.0; 0.0 0.0; … ; 0.0 0.0; 0.0 0.0], [-1.312949931431483 1.540448886346207; -1.310781785536589 1.545135108224483; … ; -1.310781785536589 1.545135108224483; -1.312949931431483 1.540448886346207])"
      ]
     },
     "execution_count": 60,
     "metadata": {},
     "output_type": "execute_result"
    }
   ],
   "source": [
    "phint, phint_matlab"
   ]
  },
  {
   "cell_type": "code",
   "execution_count": 65,
   "id": "ae23cb04",
   "metadata": {},
   "outputs": [
    {
     "data": {
      "image/svg+xml": [
       "<?xml version=\"1.0\" encoding=\"utf-8\"?>\n",
       "<svg xmlns=\"http://www.w3.org/2000/svg\" xmlns:xlink=\"http://www.w3.org/1999/xlink\" width=\"600\" height=\"400\" viewBox=\"0 0 2400 1600\">\n",
       "<defs>\n",
       "  <clipPath id=\"clip070\">\n",
       "    <rect x=\"0\" y=\"0\" width=\"2400\" height=\"1600\"/>\n",
       "  </clipPath>\n",
       "</defs>\n",
       "<path clip-path=\"url(#clip070)\" d=\"\n",
       "M0 1600 L2400 1600 L2400 0 L0 0  Z\n",
       "  \" fill=\"#ffffff\" fill-rule=\"evenodd\" fill-opacity=\"1\"/>\n",
       "<defs>\n",
       "  <clipPath id=\"clip071\">\n",
       "    <rect x=\"480\" y=\"0\" width=\"1681\" height=\"1600\"/>\n",
       "  </clipPath>\n",
       "</defs>\n",
       "<path clip-path=\"url(#clip070)\" d=\"\n",
       "M193.936 1486.45 L2352.76 1486.45 L2352.76 47.2441 L193.936 47.2441  Z\n",
       "  \" fill=\"#ffffff\" fill-rule=\"evenodd\" fill-opacity=\"1\"/>\n",
       "<defs>\n",
       "  <clipPath id=\"clip072\">\n",
       "    <rect x=\"193\" y=\"47\" width=\"2160\" height=\"1440\"/>\n",
       "  </clipPath>\n",
       "</defs>\n",
       "<polyline clip-path=\"url(#clip072)\" style=\"stroke:#000000; stroke-linecap:butt; stroke-linejoin:round; stroke-width:2; stroke-opacity:0.1; fill:none\" points=\"\n",
       "  316.417,1486.45 316.417,47.2441 \n",
       "  \"/>\n",
       "<polyline clip-path=\"url(#clip072)\" style=\"stroke:#000000; stroke-linecap:butt; stroke-linejoin:round; stroke-width:2; stroke-opacity:0.1; fill:none\" points=\"\n",
       "  657.812,1486.45 657.812,47.2441 \n",
       "  \"/>\n",
       "<polyline clip-path=\"url(#clip072)\" style=\"stroke:#000000; stroke-linecap:butt; stroke-linejoin:round; stroke-width:2; stroke-opacity:0.1; fill:none\" points=\"\n",
       "  999.206,1486.45 999.206,47.2441 \n",
       "  \"/>\n",
       "<polyline clip-path=\"url(#clip072)\" style=\"stroke:#000000; stroke-linecap:butt; stroke-linejoin:round; stroke-width:2; stroke-opacity:0.1; fill:none\" points=\"\n",
       "  1340.6,1486.45 1340.6,47.2441 \n",
       "  \"/>\n",
       "<polyline clip-path=\"url(#clip072)\" style=\"stroke:#000000; stroke-linecap:butt; stroke-linejoin:round; stroke-width:2; stroke-opacity:0.1; fill:none\" points=\"\n",
       "  1682,1486.45 1682,47.2441 \n",
       "  \"/>\n",
       "<polyline clip-path=\"url(#clip072)\" style=\"stroke:#000000; stroke-linecap:butt; stroke-linejoin:round; stroke-width:2; stroke-opacity:0.1; fill:none\" points=\"\n",
       "  2023.39,1486.45 2023.39,47.2441 \n",
       "  \"/>\n",
       "<polyline clip-path=\"url(#clip070)\" style=\"stroke:#000000; stroke-linecap:butt; stroke-linejoin:round; stroke-width:4; stroke-opacity:1; fill:none\" points=\"\n",
       "  193.936,1486.45 2352.76,1486.45 \n",
       "  \"/>\n",
       "<polyline clip-path=\"url(#clip070)\" style=\"stroke:#000000; stroke-linecap:butt; stroke-linejoin:round; stroke-width:4; stroke-opacity:1; fill:none\" points=\"\n",
       "  316.417,1486.45 316.417,1467.55 \n",
       "  \"/>\n",
       "<polyline clip-path=\"url(#clip070)\" style=\"stroke:#000000; stroke-linecap:butt; stroke-linejoin:round; stroke-width:4; stroke-opacity:1; fill:none\" points=\"\n",
       "  657.812,1486.45 657.812,1467.55 \n",
       "  \"/>\n",
       "<polyline clip-path=\"url(#clip070)\" style=\"stroke:#000000; stroke-linecap:butt; stroke-linejoin:round; stroke-width:4; stroke-opacity:1; fill:none\" points=\"\n",
       "  999.206,1486.45 999.206,1467.55 \n",
       "  \"/>\n",
       "<polyline clip-path=\"url(#clip070)\" style=\"stroke:#000000; stroke-linecap:butt; stroke-linejoin:round; stroke-width:4; stroke-opacity:1; fill:none\" points=\"\n",
       "  1340.6,1486.45 1340.6,1467.55 \n",
       "  \"/>\n",
       "<polyline clip-path=\"url(#clip070)\" style=\"stroke:#000000; stroke-linecap:butt; stroke-linejoin:round; stroke-width:4; stroke-opacity:1; fill:none\" points=\"\n",
       "  1682,1486.45 1682,1467.55 \n",
       "  \"/>\n",
       "<polyline clip-path=\"url(#clip070)\" style=\"stroke:#000000; stroke-linecap:butt; stroke-linejoin:round; stroke-width:4; stroke-opacity:1; fill:none\" points=\"\n",
       "  2023.39,1486.45 2023.39,1467.55 \n",
       "  \"/>\n",
       "<path clip-path=\"url(#clip070)\" d=\"M263.443 1532.02 L293.119 1532.02 L293.119 1535.95 L263.443 1535.95 L263.443 1532.02 Z\" fill=\"#000000\" fill-rule=\"evenodd\" fill-opacity=\"1\" /><path clip-path=\"url(#clip070)\" d=\"M304.022 1544.91 L311.66 1544.91 L311.66 1518.55 L303.35 1520.21 L303.35 1515.95 L311.614 1514.29 L316.29 1514.29 L316.29 1544.91 L323.929 1544.91 L323.929 1548.85 L304.022 1548.85 L304.022 1544.91 Z\" fill=\"#000000\" fill-rule=\"evenodd\" fill-opacity=\"1\" /><path clip-path=\"url(#clip070)\" d=\"M333.373 1542.97 L338.258 1542.97 L338.258 1548.85 L333.373 1548.85 L333.373 1542.97 Z\" fill=\"#000000\" fill-rule=\"evenodd\" fill-opacity=\"1\" /><path clip-path=\"url(#clip070)\" d=\"M348.489 1514.29 L366.845 1514.29 L366.845 1518.22 L352.771 1518.22 L352.771 1526.7 Q353.79 1526.35 354.808 1526.19 Q355.827 1526 356.845 1526 Q362.632 1526 366.012 1529.17 Q369.392 1532.34 369.392 1537.76 Q369.392 1543.34 365.919 1546.44 Q362.447 1549.52 356.128 1549.52 Q353.952 1549.52 351.683 1549.15 Q349.438 1548.78 347.031 1548.04 L347.031 1543.34 Q349.114 1544.47 351.336 1545.03 Q353.558 1545.58 356.035 1545.58 Q360.04 1545.58 362.378 1543.48 Q364.716 1541.37 364.716 1537.76 Q364.716 1534.15 362.378 1532.04 Q360.04 1529.94 356.035 1529.94 Q354.16 1529.94 352.285 1530.35 Q350.433 1530.77 348.489 1531.65 L348.489 1514.29 Z\" fill=\"#000000\" fill-rule=\"evenodd\" fill-opacity=\"1\" /><path clip-path=\"url(#clip070)\" d=\"M604.34 1532.02 L634.016 1532.02 L634.016 1535.95 L604.34 1535.95 L604.34 1532.02 Z\" fill=\"#000000\" fill-rule=\"evenodd\" fill-opacity=\"1\" /><path clip-path=\"url(#clip070)\" d=\"M644.918 1544.91 L652.557 1544.91 L652.557 1518.55 L644.247 1520.21 L644.247 1515.95 L652.511 1514.29 L657.187 1514.29 L657.187 1544.91 L664.826 1544.91 L664.826 1548.85 L644.918 1548.85 L644.918 1544.91 Z\" fill=\"#000000\" fill-rule=\"evenodd\" fill-opacity=\"1\" /><path clip-path=\"url(#clip070)\" d=\"M674.27 1542.97 L679.154 1542.97 L679.154 1548.85 L674.27 1548.85 L674.27 1542.97 Z\" fill=\"#000000\" fill-rule=\"evenodd\" fill-opacity=\"1\" /><path clip-path=\"url(#clip070)\" d=\"M699.339 1517.37 Q695.728 1517.37 693.9 1520.93 Q692.094 1524.47 692.094 1531.6 Q692.094 1538.71 693.9 1542.27 Q695.728 1545.82 699.339 1545.82 Q702.974 1545.82 704.779 1542.27 Q706.608 1538.71 706.608 1531.6 Q706.608 1524.47 704.779 1520.93 Q702.974 1517.37 699.339 1517.37 M699.339 1513.66 Q705.15 1513.66 708.205 1518.27 Q711.284 1522.85 711.284 1531.6 Q711.284 1540.33 708.205 1544.94 Q705.15 1549.52 699.339 1549.52 Q693.529 1549.52 690.451 1544.94 Q687.395 1540.33 687.395 1531.6 Q687.395 1522.85 690.451 1518.27 Q693.529 1513.66 699.339 1513.66 Z\" fill=\"#000000\" fill-rule=\"evenodd\" fill-opacity=\"1\" /><path clip-path=\"url(#clip070)\" d=\"M946.232 1532.02 L975.908 1532.02 L975.908 1535.95 L946.232 1535.95 L946.232 1532.02 Z\" fill=\"#000000\" fill-rule=\"evenodd\" fill-opacity=\"1\" /><path clip-path=\"url(#clip070)\" d=\"M996 1517.37 Q992.389 1517.37 990.56 1520.93 Q988.755 1524.47 988.755 1531.6 Q988.755 1538.71 990.56 1542.27 Q992.389 1545.82 996 1545.82 Q999.634 1545.82 1001.44 1542.27 Q1003.27 1538.71 1003.27 1531.6 Q1003.27 1524.47 1001.44 1520.93 Q999.634 1517.37 996 1517.37 M996 1513.66 Q1001.81 1513.66 1004.87 1518.27 Q1007.94 1522.85 1007.94 1531.6 Q1007.94 1540.33 1004.87 1544.94 Q1001.81 1549.52 996 1549.52 Q990.19 1549.52 987.111 1544.94 Q984.056 1540.33 984.056 1531.6 Q984.056 1522.85 987.111 1518.27 Q990.19 1513.66 996 1513.66 Z\" fill=\"#000000\" fill-rule=\"evenodd\" fill-opacity=\"1\" /><path clip-path=\"url(#clip070)\" d=\"M1016.16 1542.97 L1021.05 1542.97 L1021.05 1548.85 L1016.16 1548.85 L1016.16 1542.97 Z\" fill=\"#000000\" fill-rule=\"evenodd\" fill-opacity=\"1\" /><path clip-path=\"url(#clip070)\" d=\"M1031.28 1514.29 L1049.63 1514.29 L1049.63 1518.22 L1035.56 1518.22 L1035.56 1526.7 Q1036.58 1526.35 1037.6 1526.19 Q1038.62 1526 1039.63 1526 Q1045.42 1526 1048.8 1529.17 Q1052.18 1532.34 1052.18 1537.76 Q1052.18 1543.34 1048.71 1546.44 Q1045.24 1549.52 1038.92 1549.52 Q1036.74 1549.52 1034.47 1549.15 Q1032.23 1548.78 1029.82 1548.04 L1029.82 1543.34 Q1031.9 1544.47 1034.13 1545.03 Q1036.35 1545.58 1038.82 1545.58 Q1042.83 1545.58 1045.17 1543.48 Q1047.5 1541.37 1047.5 1537.76 Q1047.5 1534.15 1045.17 1532.04 Q1042.83 1529.94 1038.82 1529.94 Q1036.95 1529.94 1035.07 1530.35 Q1033.22 1530.77 1031.28 1531.65 L1031.28 1514.29 Z\" fill=\"#000000\" fill-rule=\"evenodd\" fill-opacity=\"1\" /><path clip-path=\"url(#clip070)\" d=\"M1317.99 1517.37 Q1314.37 1517.37 1312.55 1520.93 Q1310.74 1524.47 1310.74 1531.6 Q1310.74 1538.71 1312.55 1542.27 Q1314.37 1545.82 1317.99 1545.82 Q1321.62 1545.82 1323.42 1542.27 Q1325.25 1538.71 1325.25 1531.6 Q1325.25 1524.47 1323.42 1520.93 Q1321.62 1517.37 1317.99 1517.37 M1317.99 1513.66 Q1323.8 1513.66 1326.85 1518.27 Q1329.93 1522.85 1329.93 1531.6 Q1329.93 1540.33 1326.85 1544.94 Q1323.8 1549.52 1317.99 1549.52 Q1312.17 1549.52 1309.1 1544.94 Q1306.04 1540.33 1306.04 1531.6 Q1306.04 1522.85 1309.1 1518.27 Q1312.17 1513.66 1317.99 1513.66 Z\" fill=\"#000000\" fill-rule=\"evenodd\" fill-opacity=\"1\" /><path clip-path=\"url(#clip070)\" d=\"M1338.15 1542.97 L1343.03 1542.97 L1343.03 1548.85 L1338.15 1548.85 L1338.15 1542.97 Z\" fill=\"#000000\" fill-rule=\"evenodd\" fill-opacity=\"1\" /><path clip-path=\"url(#clip070)\" d=\"M1363.22 1517.37 Q1359.61 1517.37 1357.78 1520.93 Q1355.97 1524.47 1355.97 1531.6 Q1355.97 1538.71 1357.78 1542.27 Q1359.61 1545.82 1363.22 1545.82 Q1366.85 1545.82 1368.66 1542.27 Q1370.48 1538.71 1370.48 1531.6 Q1370.48 1524.47 1368.66 1520.93 Q1366.85 1517.37 1363.22 1517.37 M1363.22 1513.66 Q1369.03 1513.66 1372.08 1518.27 Q1375.16 1522.85 1375.16 1531.6 Q1375.16 1540.33 1372.08 1544.94 Q1369.03 1549.52 1363.22 1549.52 Q1357.41 1549.52 1354.33 1544.94 Q1351.27 1540.33 1351.27 1531.6 Q1351.27 1522.85 1354.33 1518.27 Q1357.41 1513.66 1363.22 1513.66 Z\" fill=\"#000000\" fill-rule=\"evenodd\" fill-opacity=\"1\" /><path clip-path=\"url(#clip070)\" d=\"M1659.88 1517.37 Q1656.27 1517.37 1654.44 1520.93 Q1652.63 1524.47 1652.63 1531.6 Q1652.63 1538.71 1654.44 1542.27 Q1656.27 1545.82 1659.88 1545.82 Q1663.51 1545.82 1665.32 1542.27 Q1667.15 1538.71 1667.15 1531.6 Q1667.15 1524.47 1665.32 1520.93 Q1663.51 1517.37 1659.88 1517.37 M1659.88 1513.66 Q1665.69 1513.66 1668.74 1518.27 Q1671.82 1522.85 1671.82 1531.6 Q1671.82 1540.33 1668.74 1544.94 Q1665.69 1549.52 1659.88 1549.52 Q1654.07 1549.52 1650.99 1544.94 Q1647.93 1540.33 1647.93 1531.6 Q1647.93 1522.85 1650.99 1518.27 Q1654.07 1513.66 1659.88 1513.66 Z\" fill=\"#000000\" fill-rule=\"evenodd\" fill-opacity=\"1\" /><path clip-path=\"url(#clip070)\" d=\"M1680.04 1542.97 L1684.92 1542.97 L1684.92 1548.85 L1680.04 1548.85 L1680.04 1542.97 Z\" fill=\"#000000\" fill-rule=\"evenodd\" fill-opacity=\"1\" /><path clip-path=\"url(#clip070)\" d=\"M1695.15 1514.29 L1713.51 1514.29 L1713.51 1518.22 L1699.44 1518.22 L1699.44 1526.7 Q1700.46 1526.35 1701.47 1526.19 Q1702.49 1526 1703.51 1526 Q1709.3 1526 1712.68 1529.17 Q1716.06 1532.34 1716.06 1537.76 Q1716.06 1543.34 1712.59 1546.44 Q1709.11 1549.52 1702.79 1549.52 Q1700.62 1549.52 1698.35 1549.15 Q1696.1 1548.78 1693.7 1548.04 L1693.7 1543.34 Q1695.78 1544.47 1698 1545.03 Q1700.22 1545.58 1702.7 1545.58 Q1706.71 1545.58 1709.04 1543.48 Q1711.38 1541.37 1711.38 1537.76 Q1711.38 1534.15 1709.04 1532.04 Q1706.71 1529.94 1702.7 1529.94 Q1700.83 1529.94 1698.95 1530.35 Q1697.1 1530.77 1695.15 1531.65 L1695.15 1514.29 Z\" fill=\"#000000\" fill-rule=\"evenodd\" fill-opacity=\"1\" /><path clip-path=\"url(#clip070)\" d=\"M1990.54 1544.91 L1998.18 1544.91 L1998.18 1518.55 L1989.87 1520.21 L1989.87 1515.95 L1998.13 1514.29 L2002.81 1514.29 L2002.81 1544.91 L2010.45 1544.91 L2010.45 1548.85 L1990.54 1548.85 L1990.54 1544.91 Z\" fill=\"#000000\" fill-rule=\"evenodd\" fill-opacity=\"1\" /><path clip-path=\"url(#clip070)\" d=\"M2019.89 1542.97 L2024.78 1542.97 L2024.78 1548.85 L2019.89 1548.85 L2019.89 1542.97 Z\" fill=\"#000000\" fill-rule=\"evenodd\" fill-opacity=\"1\" /><path clip-path=\"url(#clip070)\" d=\"M2044.96 1517.37 Q2041.35 1517.37 2039.52 1520.93 Q2037.72 1524.47 2037.72 1531.6 Q2037.72 1538.71 2039.52 1542.27 Q2041.35 1545.82 2044.96 1545.82 Q2048.6 1545.82 2050.4 1542.27 Q2052.23 1538.71 2052.23 1531.6 Q2052.23 1524.47 2050.4 1520.93 Q2048.6 1517.37 2044.96 1517.37 M2044.96 1513.66 Q2050.77 1513.66 2053.83 1518.27 Q2056.91 1522.85 2056.91 1531.6 Q2056.91 1540.33 2053.83 1544.94 Q2050.77 1549.52 2044.96 1549.52 Q2039.15 1549.52 2036.07 1544.94 Q2033.02 1540.33 2033.02 1531.6 Q2033.02 1522.85 2036.07 1518.27 Q2039.15 1513.66 2044.96 1513.66 Z\" fill=\"#000000\" fill-rule=\"evenodd\" fill-opacity=\"1\" /><polyline clip-path=\"url(#clip072)\" style=\"stroke:#000000; stroke-linecap:butt; stroke-linejoin:round; stroke-width:2; stroke-opacity:0.1; fill:none\" points=\"\n",
       "  193.936,1479.78 2352.76,1479.78 \n",
       "  \"/>\n",
       "<polyline clip-path=\"url(#clip072)\" style=\"stroke:#000000; stroke-linecap:butt; stroke-linejoin:round; stroke-width:2; stroke-opacity:0.1; fill:none\" points=\"\n",
       "  193.936,1209.44 2352.76,1209.44 \n",
       "  \"/>\n",
       "<polyline clip-path=\"url(#clip072)\" style=\"stroke:#000000; stroke-linecap:butt; stroke-linejoin:round; stroke-width:2; stroke-opacity:0.1; fill:none\" points=\"\n",
       "  193.936,939.105 2352.76,939.105 \n",
       "  \"/>\n",
       "<polyline clip-path=\"url(#clip072)\" style=\"stroke:#000000; stroke-linecap:butt; stroke-linejoin:round; stroke-width:2; stroke-opacity:0.1; fill:none\" points=\"\n",
       "  193.936,668.768 2352.76,668.768 \n",
       "  \"/>\n",
       "<polyline clip-path=\"url(#clip072)\" style=\"stroke:#000000; stroke-linecap:butt; stroke-linejoin:round; stroke-width:2; stroke-opacity:0.1; fill:none\" points=\"\n",
       "  193.936,398.431 2352.76,398.431 \n",
       "  \"/>\n",
       "<polyline clip-path=\"url(#clip072)\" style=\"stroke:#000000; stroke-linecap:butt; stroke-linejoin:round; stroke-width:2; stroke-opacity:0.1; fill:none\" points=\"\n",
       "  193.936,128.094 2352.76,128.094 \n",
       "  \"/>\n",
       "<polyline clip-path=\"url(#clip070)\" style=\"stroke:#000000; stroke-linecap:butt; stroke-linejoin:round; stroke-width:4; stroke-opacity:1; fill:none\" points=\"\n",
       "  193.936,1486.45 193.936,47.2441 \n",
       "  \"/>\n",
       "<polyline clip-path=\"url(#clip070)\" style=\"stroke:#000000; stroke-linecap:butt; stroke-linejoin:round; stroke-width:4; stroke-opacity:1; fill:none\" points=\"\n",
       "  193.936,1479.78 212.834,1479.78 \n",
       "  \"/>\n",
       "<polyline clip-path=\"url(#clip070)\" style=\"stroke:#000000; stroke-linecap:butt; stroke-linejoin:round; stroke-width:4; stroke-opacity:1; fill:none\" points=\"\n",
       "  193.936,1209.44 212.834,1209.44 \n",
       "  \"/>\n",
       "<polyline clip-path=\"url(#clip070)\" style=\"stroke:#000000; stroke-linecap:butt; stroke-linejoin:round; stroke-width:4; stroke-opacity:1; fill:none\" points=\"\n",
       "  193.936,939.105 212.834,939.105 \n",
       "  \"/>\n",
       "<polyline clip-path=\"url(#clip070)\" style=\"stroke:#000000; stroke-linecap:butt; stroke-linejoin:round; stroke-width:4; stroke-opacity:1; fill:none\" points=\"\n",
       "  193.936,668.768 212.834,668.768 \n",
       "  \"/>\n",
       "<polyline clip-path=\"url(#clip070)\" style=\"stroke:#000000; stroke-linecap:butt; stroke-linejoin:round; stroke-width:4; stroke-opacity:1; fill:none\" points=\"\n",
       "  193.936,398.431 212.834,398.431 \n",
       "  \"/>\n",
       "<polyline clip-path=\"url(#clip070)\" style=\"stroke:#000000; stroke-linecap:butt; stroke-linejoin:round; stroke-width:4; stroke-opacity:1; fill:none\" points=\"\n",
       "  193.936,128.094 212.834,128.094 \n",
       "  \"/>\n",
       "<path clip-path=\"url(#clip070)\" d=\"M51.9875 1480.23 L81.6633 1480.23 L81.6633 1484.16 L51.9875 1484.16 L51.9875 1480.23 Z\" fill=\"#000000\" fill-rule=\"evenodd\" fill-opacity=\"1\" /><path clip-path=\"url(#clip070)\" d=\"M92.566 1493.12 L100.205 1493.12 L100.205 1466.76 L91.8947 1468.42 L91.8947 1464.16 L100.159 1462.5 L104.834 1462.5 L104.834 1493.12 L112.473 1493.12 L112.473 1497.06 L92.566 1497.06 L92.566 1493.12 Z\" fill=\"#000000\" fill-rule=\"evenodd\" fill-opacity=\"1\" /><path clip-path=\"url(#clip070)\" d=\"M121.918 1491.18 L126.802 1491.18 L126.802 1497.06 L121.918 1497.06 L121.918 1491.18 Z\" fill=\"#000000\" fill-rule=\"evenodd\" fill-opacity=\"1\" /><path clip-path=\"url(#clip070)\" d=\"M137.033 1462.5 L155.39 1462.5 L155.39 1466.43 L141.316 1466.43 L141.316 1474.91 Q142.334 1474.56 143.353 1474.4 Q144.371 1474.21 145.39 1474.21 Q151.177 1474.21 154.556 1477.38 Q157.936 1480.55 157.936 1485.97 Q157.936 1491.55 154.464 1494.65 Q150.992 1497.73 144.672 1497.73 Q142.496 1497.73 140.228 1497.36 Q137.982 1496.99 135.575 1496.25 L135.575 1491.55 Q137.658 1492.68 139.881 1493.24 Q142.103 1493.79 144.58 1493.79 Q148.584 1493.79 150.922 1491.69 Q153.26 1489.58 153.26 1485.97 Q153.26 1482.36 150.922 1480.25 Q148.584 1478.15 144.58 1478.15 Q142.705 1478.15 140.83 1478.56 Q138.978 1478.98 137.033 1479.86 L137.033 1462.5 Z\" fill=\"#000000\" fill-rule=\"evenodd\" fill-opacity=\"1\" /><path clip-path=\"url(#clip070)\" d=\"M50.9921 1209.89 L80.6679 1209.89 L80.6679 1213.83 L50.9921 1213.83 L50.9921 1209.89 Z\" fill=\"#000000\" fill-rule=\"evenodd\" fill-opacity=\"1\" /><path clip-path=\"url(#clip070)\" d=\"M91.5706 1222.79 L99.2095 1222.79 L99.2095 1196.42 L90.8993 1198.09 L90.8993 1193.83 L99.1632 1192.16 L103.839 1192.16 L103.839 1222.79 L111.478 1222.79 L111.478 1226.72 L91.5706 1226.72 L91.5706 1222.79 Z\" fill=\"#000000\" fill-rule=\"evenodd\" fill-opacity=\"1\" /><path clip-path=\"url(#clip070)\" d=\"M120.922 1220.84 L125.807 1220.84 L125.807 1226.72 L120.922 1226.72 L120.922 1220.84 Z\" fill=\"#000000\" fill-rule=\"evenodd\" fill-opacity=\"1\" /><path clip-path=\"url(#clip070)\" d=\"M145.992 1195.24 Q142.381 1195.24 140.552 1198.8 Q138.746 1202.35 138.746 1209.48 Q138.746 1216.58 140.552 1220.15 Q142.381 1223.69 145.992 1223.69 Q149.626 1223.69 151.431 1220.15 Q153.26 1216.58 153.26 1209.48 Q153.26 1202.35 151.431 1198.8 Q149.626 1195.24 145.992 1195.24 M145.992 1191.54 Q151.802 1191.54 154.857 1196.14 Q157.936 1200.73 157.936 1209.48 Q157.936 1218.2 154.857 1222.81 Q151.802 1227.39 145.992 1227.39 Q140.181 1227.39 137.103 1222.81 Q134.047 1218.2 134.047 1209.48 Q134.047 1200.73 137.103 1196.14 Q140.181 1191.54 145.992 1191.54 Z\" fill=\"#000000\" fill-rule=\"evenodd\" fill-opacity=\"1\" /><path clip-path=\"url(#clip070)\" d=\"M51.9875 939.556 L81.6633 939.556 L81.6633 943.491 L51.9875 943.491 L51.9875 939.556 Z\" fill=\"#000000\" fill-rule=\"evenodd\" fill-opacity=\"1\" /><path clip-path=\"url(#clip070)\" d=\"M101.756 924.903 Q98.1447 924.903 96.316 928.468 Q94.5104 932.01 94.5104 939.139 Q94.5104 946.246 96.316 949.811 Q98.1447 953.352 101.756 953.352 Q105.39 953.352 107.196 949.811 Q109.024 946.246 109.024 939.139 Q109.024 932.01 107.196 928.468 Q105.39 924.903 101.756 924.903 M101.756 921.2 Q107.566 921.2 110.621 925.806 Q113.7 930.389 113.7 939.139 Q113.7 947.866 110.621 952.473 Q107.566 957.056 101.756 957.056 Q95.9456 957.056 92.8669 952.473 Q89.8114 947.866 89.8114 939.139 Q89.8114 930.389 92.8669 925.806 Q95.9456 921.2 101.756 921.2 Z\" fill=\"#000000\" fill-rule=\"evenodd\" fill-opacity=\"1\" /><path clip-path=\"url(#clip070)\" d=\"M121.918 950.505 L126.802 950.505 L126.802 956.385 L121.918 956.385 L121.918 950.505 Z\" fill=\"#000000\" fill-rule=\"evenodd\" fill-opacity=\"1\" /><path clip-path=\"url(#clip070)\" d=\"M137.033 921.825 L155.39 921.825 L155.39 925.76 L141.316 925.76 L141.316 934.232 Q142.334 933.885 143.353 933.723 Q144.371 933.537 145.39 933.537 Q151.177 933.537 154.556 936.709 Q157.936 939.88 157.936 945.297 Q157.936 950.875 154.464 953.977 Q150.992 957.056 144.672 957.056 Q142.496 957.056 140.228 956.686 Q137.982 956.315 135.575 955.574 L135.575 950.875 Q137.658 952.01 139.881 952.565 Q142.103 953.121 144.58 953.121 Q148.584 953.121 150.922 951.014 Q153.26 948.908 153.26 945.297 Q153.26 941.686 150.922 939.579 Q148.584 937.473 144.58 937.473 Q142.705 937.473 140.83 937.889 Q138.978 938.306 137.033 939.186 L137.033 921.825 Z\" fill=\"#000000\" fill-rule=\"evenodd\" fill-opacity=\"1\" /><path clip-path=\"url(#clip070)\" d=\"M100.76 654.566 Q97.1493 654.566 95.3206 658.131 Q93.515 661.673 93.515 668.803 Q93.515 675.909 95.3206 679.474 Q97.1493 683.015 100.76 683.015 Q104.395 683.015 106.2 679.474 Q108.029 675.909 108.029 668.803 Q108.029 661.673 106.2 658.131 Q104.395 654.566 100.76 654.566 M100.76 650.863 Q106.571 650.863 109.626 655.469 Q112.705 660.053 112.705 668.803 Q112.705 677.529 109.626 682.136 Q106.571 686.719 100.76 686.719 Q94.9502 686.719 91.8715 682.136 Q88.816 677.529 88.816 668.803 Q88.816 660.053 91.8715 655.469 Q94.9502 650.863 100.76 650.863 Z\" fill=\"#000000\" fill-rule=\"evenodd\" fill-opacity=\"1\" /><path clip-path=\"url(#clip070)\" d=\"M120.922 680.168 L125.807 680.168 L125.807 686.048 L120.922 686.048 L120.922 680.168 Z\" fill=\"#000000\" fill-rule=\"evenodd\" fill-opacity=\"1\" /><path clip-path=\"url(#clip070)\" d=\"M145.992 654.566 Q142.381 654.566 140.552 658.131 Q138.746 661.673 138.746 668.803 Q138.746 675.909 140.552 679.474 Q142.381 683.015 145.992 683.015 Q149.626 683.015 151.431 679.474 Q153.26 675.909 153.26 668.803 Q153.26 661.673 151.431 658.131 Q149.626 654.566 145.992 654.566 M145.992 650.863 Q151.802 650.863 154.857 655.469 Q157.936 660.053 157.936 668.803 Q157.936 677.529 154.857 682.136 Q151.802 686.719 145.992 686.719 Q140.181 686.719 137.103 682.136 Q134.047 677.529 134.047 668.803 Q134.047 660.053 137.103 655.469 Q140.181 650.863 145.992 650.863 Z\" fill=\"#000000\" fill-rule=\"evenodd\" fill-opacity=\"1\" /><path clip-path=\"url(#clip070)\" d=\"M101.756 384.23 Q98.1447 384.23 96.316 387.795 Q94.5104 391.336 94.5104 398.466 Q94.5104 405.572 96.316 409.137 Q98.1447 412.679 101.756 412.679 Q105.39 412.679 107.196 409.137 Q109.024 405.572 109.024 398.466 Q109.024 391.336 107.196 387.795 Q105.39 384.23 101.756 384.23 M101.756 380.526 Q107.566 380.526 110.621 385.132 Q113.7 389.716 113.7 398.466 Q113.7 407.193 110.621 411.799 Q107.566 416.382 101.756 416.382 Q95.9456 416.382 92.8669 411.799 Q89.8114 407.193 89.8114 398.466 Q89.8114 389.716 92.8669 385.132 Q95.9456 380.526 101.756 380.526 Z\" fill=\"#000000\" fill-rule=\"evenodd\" fill-opacity=\"1\" /><path clip-path=\"url(#clip070)\" d=\"M121.918 409.831 L126.802 409.831 L126.802 415.711 L121.918 415.711 L121.918 409.831 Z\" fill=\"#000000\" fill-rule=\"evenodd\" fill-opacity=\"1\" /><path clip-path=\"url(#clip070)\" d=\"M137.033 381.151 L155.39 381.151 L155.39 385.086 L141.316 385.086 L141.316 393.558 Q142.334 393.211 143.353 393.049 Q144.371 392.864 145.39 392.864 Q151.177 392.864 154.556 396.035 Q157.936 399.206 157.936 404.623 Q157.936 410.202 154.464 413.304 Q150.992 416.382 144.672 416.382 Q142.496 416.382 140.228 416.012 Q137.982 415.642 135.575 414.901 L135.575 410.202 Q137.658 411.336 139.881 411.892 Q142.103 412.447 144.58 412.447 Q148.584 412.447 150.922 410.341 Q153.26 408.234 153.26 404.623 Q153.26 401.012 150.922 398.906 Q148.584 396.799 144.58 396.799 Q142.705 396.799 140.83 397.216 Q138.978 397.632 137.033 398.512 L137.033 381.151 Z\" fill=\"#000000\" fill-rule=\"evenodd\" fill-opacity=\"1\" /><path clip-path=\"url(#clip070)\" d=\"M91.5706 141.439 L99.2095 141.439 L99.2095 115.073 L90.8993 116.74 L90.8993 112.481 L99.1632 110.814 L103.839 110.814 L103.839 141.439 L111.478 141.439 L111.478 145.374 L91.5706 145.374 L91.5706 141.439 Z\" fill=\"#000000\" fill-rule=\"evenodd\" fill-opacity=\"1\" /><path clip-path=\"url(#clip070)\" d=\"M120.922 139.495 L125.807 139.495 L125.807 145.374 L120.922 145.374 L120.922 139.495 Z\" fill=\"#000000\" fill-rule=\"evenodd\" fill-opacity=\"1\" /><path clip-path=\"url(#clip070)\" d=\"M145.992 113.893 Q142.381 113.893 140.552 117.458 Q138.746 120.999 138.746 128.129 Q138.746 135.235 140.552 138.8 Q142.381 142.342 145.992 142.342 Q149.626 142.342 151.431 138.8 Q153.26 135.235 153.26 128.129 Q153.26 120.999 151.431 117.458 Q149.626 113.893 145.992 113.893 M145.992 110.189 Q151.802 110.189 154.857 114.796 Q157.936 119.379 157.936 128.129 Q157.936 136.856 154.857 141.462 Q151.802 146.046 145.992 146.046 Q140.181 146.046 137.103 141.462 Q134.047 136.856 134.047 128.129 Q134.047 119.379 137.103 114.796 Q140.181 110.189 145.992 110.189 Z\" fill=\"#000000\" fill-rule=\"evenodd\" fill-opacity=\"1\" /><polyline clip-path=\"url(#clip072)\" style=\"stroke:#009af9; stroke-linecap:butt; stroke-linejoin:round; stroke-width:4; stroke-opacity:1; fill:none\" points=\"\n",
       "  2291.66,668.768 2275.41,621.725 2230.68,578.816 2164.39,543.04 2083.41,516.146 1994.82,498.623 1905.38,489.724 1821.48,487.512 1748.8,488.924 1692.15,489.864 \n",
       "  1655.26,485.312 1629.41,476.867 1604.2,469.746 1579.75,463.744 1556.17,458.651 1533.52,454.245 1511.79,450.287 1490.95,446.556 1470.9,442.826 1451.51,438.884 \n",
       "  1432.58,434.526 1415.92,422.924 1400.71,398.804 1383.43,364.655 1361.38,323.348 1332.77,278.023 1296.75,231.979 1253.41,188.542 1203.78,150.97 1149.82,122.309 \n",
       "  1094.37,105.386 1037.78,96.3026 978.484,90.193 917.135,87.9763 854.673,90.4093 792.226,98.195 731.123,111.766 672.833,131.533 618.961,157.523 571.234,189.655 \n",
       "  531.359,227.6 507.393,273.741 504.731,327.543 520.64,384.601 551.228,441.258 592.059,494.725 638.079,543.115 683.758,585.542 723.53,622.109 751.784,653.967 \n",
       "  763.105,683.284 744.205,713.863 691.869,750.966 616.571,798.259 529.038,857.468 439.866,928.372 359.228,1008.87 296.412,1095.05 259.473,1181.33 255.035,1260.59 \n",
       "  287.809,1324.33 348.713,1371.48 423.206,1406.84 507.12,1430.47 596.497,1443.01 687.827,1445.72 778.14,1440.2 865.031,1428.63 946.754,1413.33 1022.3,1397.06 \n",
       "  1091.4,1382.51 1155.82,1368.02 1216.87,1350.23 1274.25,1329.63 1327.81,1306.87 1377.52,1282.43 1423.44,1256.97 1465.8,1231.01 1504.87,1204.97 1541.1,1179.37 \n",
       "  1574.99,1154.57 1606.33,1129.52 1634.6,1103.27 1659.95,1076.33 1682.68,1049.16 1703.16,1022.16 1721.88,995.643 1739.39,969.869 1756.31,944.987 1773.3,921.051 \n",
       "  1791.06,898.008 1820.97,880.409 1871.45,868.86 1937.75,858.068 2013.99,843.897 2093.44,823.444 2168.69,795.15 2231.98,758.849 2275.54,715.818 2291.66,668.768 \n",
       "  \n",
       "  \"/>\n",
       "<path clip-path=\"url(#clip070)\" d=\"\n",
       "M1988.5 198.898 L2280.8 198.898 L2280.8 95.2176 L1988.5 95.2176  Z\n",
       "  \" fill=\"#ffffff\" fill-rule=\"evenodd\" fill-opacity=\"1\"/>\n",
       "<polyline clip-path=\"url(#clip070)\" style=\"stroke:#000000; stroke-linecap:butt; stroke-linejoin:round; stroke-width:4; stroke-opacity:1; fill:none\" points=\"\n",
       "  1988.5,198.898 2280.8,198.898 2280.8,95.2176 1988.5,95.2176 1988.5,198.898 \n",
       "  \"/>\n",
       "<polyline clip-path=\"url(#clip070)\" style=\"stroke:#009af9; stroke-linecap:butt; stroke-linejoin:round; stroke-width:4; stroke-opacity:1; fill:none\" points=\"\n",
       "  2012.48,147.058 2156.4,147.058 \n",
       "  \"/>\n",
       "<path clip-path=\"url(#clip070)\" d=\"M2194.23 166.745 Q2192.43 171.375 2190.72 172.787 Q2189 174.199 2186.13 174.199 L2182.73 174.199 L2182.73 170.634 L2185.23 170.634 Q2186.99 170.634 2187.96 169.8 Q2188.93 168.967 2190.11 165.865 L2190.88 163.921 L2180.39 138.412 L2184.91 138.412 L2193.01 158.689 L2201.11 138.412 L2205.62 138.412 L2194.23 166.745 Z\" fill=\"#000000\" fill-rule=\"evenodd\" fill-opacity=\"1\" /><path clip-path=\"url(#clip070)\" d=\"M2212.91 160.402 L2220.55 160.402 L2220.55 134.037 L2212.24 135.703 L2212.24 131.444 L2220.51 129.778 L2225.18 129.778 L2225.18 160.402 L2232.82 160.402 L2232.82 164.338 L2212.91 164.338 L2212.91 160.402 Z\" fill=\"#000000\" fill-rule=\"evenodd\" fill-opacity=\"1\" /></svg>\n"
      ]
     },
     "execution_count": 65,
     "metadata": {},
     "output_type": "execute_result"
    }
   ],
   "source": [
    "using DelimitedFiles\n",
    "\n",
    "# Computed using blob(1,1) in matlab with rng(123) seed. \n",
    "xy = readdlm(\"blob11.txt\", ',')\n",
    "\n",
    "plot(xy[:,1], xy[:,2])"
   ]
  },
  {
   "cell_type": "code",
   "execution_count": 38,
   "id": "e2d5c7df",
   "metadata": {},
   "outputs": [
    {
     "data": {
      "text/plain": [
       "112-element Array{Int64,1}:\n",
       "  2\n",
       " 50\n",
       "  3\n",
       " 50\n",
       "  3\n",
       " 50\n",
       "  3\n",
       " 50\n",
       "  4\n",
       " 40\n",
       " 41\n",
       " 49\n",
       "  4\n",
       "  ⋮\n",
       "  4\n",
       " 40\n",
       " 41\n",
       " 49\n",
       "  3\n",
       " 50\n",
       "  3\n",
       " 50\n",
       "  3\n",
       " 50\n",
       "  2\n",
       " 50"
      ]
     },
     "execution_count": 38,
     "metadata": {},
     "output_type": "execute_result"
    }
   ],
   "source": [
    "col = findall(x -> (x != 0.0), dsx)\n",
    "map(c -> Tuple(c)[1], col)"
   ]
  },
  {
   "cell_type": "code",
   "execution_count": null,
   "id": "04cd930d",
   "metadata": {},
   "outputs": [],
   "source": []
  }
 ],
 "metadata": {
  "kernelspec": {
   "display_name": "Julia 1.5.4",
   "language": "julia",
   "name": "julia-1.5"
  },
  "language_info": {
   "file_extension": ".jl",
   "mimetype": "application/julia",
   "name": "julia",
   "version": "1.5.4"
  }
 },
 "nbformat": 4,
 "nbformat_minor": 5
}
