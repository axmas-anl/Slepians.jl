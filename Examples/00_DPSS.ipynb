{
 "cells": [
  {
   "cell_type": "markdown",
   "metadata": {},
   "source": [
    "# Discrete prolate spheroidal sequences\n",
    "\n",
    "The discrete prolate spheroidal sequences (Slepian, 1978), $v_n^{(k)}(N,W)$, are the eigenvector solutions to the eigenvalue problem\n",
    "\n",
    "$$\\sum_{m = 0}^{N-1}\\frac{\\sin 2\\pi W(n-m)}{\\pi(n-m)}v_m^{(k)}(N,W) = \\lambda_k(N,W)\\cdot v_n^{(k)}(N,W)$$\n",
    "\n",
    "where $N$ is the length of the sequence, $n = 0, \\ldots, N-1$, $W$ is the bandwidth, $K$ is the number of tapers, and $\\lambda_k(N,W)$ is the eigenvalue corresponding to the $k$th taper. \n",
    "\n",
    "The dpss's solve the problem of concentrating, in frequency, the most amount of mass under the interval $(-W,W)$, while having only finite extent in time. \n",
    "\n",
    "In Slepians.jl, the dpss's are computed in the following way."
   ]
  },
  {
   "cell_type": "code",
   "execution_count": 1,
   "metadata": {},
   "outputs": [
    {
     "name": "stderr",
     "output_type": "stream",
     "text": [
      "┌ Info: Precompiling Slepians [97caf2bd-9cc0-4738-8821-c8999f46f3c9]\n",
      "└ @ Base loading.jl:1278\n",
      "┌ Warning: Package Slepians does not have Statistics in its dependencies:\n",
      "│ - If you have Slepians checked out for development and have\n",
      "│   added Statistics as a dependency but haven't updated your primary\n",
      "│   environment's manifest file, try `Pkg.resolve()`.\n",
      "│ - Otherwise you may need to report an issue with Slepians\n",
      "└ Loading Statistics into Slepians from project dependency, future warnings for Slepians are suppressed.\n"
     ]
    },
    {
     "ename": "LoadError",
     "evalue": "\u001b[91mInterruptException:\u001b[39m",
     "output_type": "error",
     "traceback": [
      "\u001b[91mInterruptException:\u001b[39m",
      "",
      "Stacktrace:",
      " [1] _include_from_serialized(::String, ::Array{Any,1}) at ./loading.jl:681",
      " [2] _require_search_from_serialized(::Base.PkgId, ::String) at ./loading.jl:782",
      " [3] _tryrequire_from_serialized(::Base.PkgId, ::UInt64, ::String) at ./loading.jl:712",
      " [4] _require_search_from_serialized(::Base.PkgId, ::String) at ./loading.jl:771",
      " [5] _tryrequire_from_serialized(::Base.PkgId, ::UInt64, ::Nothing) at ./loading.jl:712",
      " [6] _require_from_serialized(::String) at ./loading.jl:744",
      " [7] _require(::Base.PkgId) at ./loading.jl:1040",
      " [8] require(::Base.PkgId) at ./loading.jl:928",
      " [9] require(::Module, ::Symbol) at ./loading.jl:923",
      " [10] include_string(::Function, ::Module, ::String, ::String) at ./loading.jl:1091"
     ]
    }
   ],
   "source": [
    "using Slepians, FFTW, Plots\n",
    "\n",
    "N = 1024\n",
    "\n",
    "paddedlen = N*8\n",
    "halffreq = Int64(paddedlen/2+1)\n",
    "freq = LinRange(0,1.0,paddedlen+1)[1:paddedlen]"
   ]
  },
  {
   "cell_type": "code",
   "execution_count": 2,
   "metadata": {
    "ExecuteTime": {
     "end_time": "2020-10-29T20:30:20.234000-05:00",
     "start_time": "2020-10-30T01:30:20.162Z"
    }
   },
   "outputs": [
    {
     "ename": "LoadError",
     "evalue": "\u001b[91mUndefVarError: dpss_tapers not defined\u001b[39m",
     "output_type": "error",
     "traceback": [
      "\u001b[91mUndefVarError: dpss_tapers not defined\u001b[39m",
      "",
      "Stacktrace:",
      " [1] top-level scope at In[2]:4",
      " [2] include_string(::Function, ::Module, ::String, ::String) at ./loading.jl:1091"
     ]
    }
   ],
   "source": [
    "N     = 1024\n",
    "NW    = 4.0 \n",
    "K     = 8\n",
    "v,lam = dpss_tapers(N, NW, K, :both)\n",
    "\n",
    "plot(-512:511, v, label = lam', xlabel = \"Index\", title = \"DPSS's sorted by concentration\")"
   ]
  },
  {
   "cell_type": "markdown",
   "metadata": {},
   "source": [
    "The very first dpss taper has the largest \"concentration\" in the bandwidth of interest, very close to one. Subsequent tapers are less and less concentrated. To see this, plot their Fourier transforms as below. We zero pad, as before, to interpolate structure in frequency."
   ]
  },
  {
   "cell_type": "code",
   "execution_count": 3,
   "metadata": {
    "ExecuteTime": {
     "end_time": "2020-10-29T20:24:26.367000-05:00",
     "start_time": "2020-10-30T01:21:17.945Z"
    }
   },
   "outputs": [
    {
     "ename": "LoadError",
     "evalue": "\u001b[91mUndefVarError: v not defined\u001b[39m",
     "output_type": "error",
     "traceback": [
      "\u001b[91mUndefVarError: v not defined\u001b[39m",
      "",
      "Stacktrace:",
      " [1] (::var\"#2#4\")(::Int64) at ./none:0",
      " [2] MappingRF at ./reduce.jl:93 [inlined]",
      " [3] _foldl_impl(::Base.MappingRF{var\"#2#4\",Base.MappingRF{var\"#1#3\",Base.BottomRF{typeof(hcat)}}}, ::Base._InitialValue, ::UnitRange{Int64}) at ./reduce.jl:58",
      " [4] foldl_impl at ./reduce.jl:48 [inlined]",
      " [5] mapfoldl_impl(::var\"#1#3\", ::typeof(hcat), ::NamedTuple{(),Tuple{}}, ::Base.Generator{UnitRange{Int64},var\"#2#4\"}) at ./reduce.jl:44",
      " [6] mapfoldl(::Function, ::Function, ::Base.Generator{UnitRange{Int64},var\"#2#4\"}; kw::Base.Iterators.Pairs{Union{},Union{},Tuple{},NamedTuple{(),Tuple{}}}) at ./reduce.jl:160",
      " [7] mapfoldl at ./reduce.jl:160 [inlined]",
      " [8] #mapreduce#208 at ./reduce.jl:287 [inlined]",
      " [9] mapreduce(::Function, ::Function, ::Base.Generator{UnitRange{Int64},var\"#2#4\"}) at ./reduce.jl:287",
      " [10] top-level scope at In[3]:2",
      " [11] include_string(::Function, ::Module, ::String, ::String) at ./loading.jl:1091"
     ]
    }
   ],
   "source": [
    "M        = 4*N\n",
    "U        = mapreduce(x -> fft(vcat(x,zeros(M-N))), hcat, v[:,k] for k in 1:K)\n",
    "halffreq = Int64(M/2+1)\n",
    "freq     = range(0, 1,length = M+1)[1:halffreq]\n",
    "\n",
    "plot(freq[2:end], abs2.(U)[2:halffreq,:], \n",
    "    label = lam', yscale = :log10, xscale = :log10,\n",
    "    xlabel = \"Frequency (Hz)\", \n",
    "    title = \"Slepian functions\",\n",
    "    ylabel = \"Squared magnitude response \\n sorted by concentration\",\n",
    "    legend = :bottomleft)\n",
    "\n",
    "plot!((NW/N)*ones(2), [1e-30, 1e3], label=\"W\", line = :dash)"
   ]
  },
  {
   "cell_type": "markdown",
   "metadata": {},
   "source": [
    "One can see that the bulk of the mass under each of the curves is on the interval (-W,W). \n",
    "It is also easy to see that as the concentration, lambda, decreases, there is less mass under\n",
    "the curve inside the band. Since the sequences all have unit energy, there is more mass outside\n",
    "the band for larger index. Comparing with the tapers in the first plot, we see the power drop off rather quickly outside the band (-W, W) of interest. \n",
    "\n",
    "The bandwidth, $W$, is a tuning parameter for the multitaper method, and one adjusts the bandwidth by selecting the time-bandwidth product <tt>NW</tt> above. The number of tapers, $K$, is selected to be less than $2NW$, as the concentration rapidly drops with increasing $k$. For further reading, consult the original paper cited below. "
   ]
  },
  {
   "cell_type": "markdown",
   "metadata": {},
   "source": [
    "# References\n",
    "\n",
    "Slepian, David. \"Prolate spheroidal wave functions, Fourier analysis, and uncertainty—V: The discrete case.\" Bell System Technical Journal 57.5 (1978): 1371-1430."
   ]
  },
  {
   "cell_type": "code",
   "execution_count": null,
   "metadata": {},
   "outputs": [],
   "source": []
  }
 ],
 "metadata": {
  "@webio": {
   "lastCommId": null,
   "lastKernelId": null
  },
  "kernelspec": {
   "display_name": "Julia 1.5.4",
   "language": "julia",
   "name": "julia-1.5"
  },
  "language_info": {
   "file_extension": ".jl",
   "mimetype": "application/julia",
   "name": "julia",
   "version": "1.5.4"
  },
  "toc": {
   "base_numbering": 1,
   "nav_menu": {},
   "number_sections": true,
   "sideBar": true,
   "skip_h1_title": false,
   "title_cell": "Table of Contents",
   "title_sidebar": "Contents",
   "toc_cell": false,
   "toc_position": {},
   "toc_section_display": true,
   "toc_window_display": false
  }
 },
 "nbformat": 4,
 "nbformat_minor": 2
}
